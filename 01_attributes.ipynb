{
 "cells": [
  {
   "cell_type": "code",
   "execution_count": 1,
   "metadata": {
    "collapsed": true
   },
   "outputs": [],
   "source": [
    "import os\n",
    "from xml.etree import ElementTree as ET"
   ]
  },
  {
   "cell_type": "markdown",
   "metadata": {},
   "source": [
    "From previous processing: 30,000 articles per file (except last file: 29,399 articles). Total = ~26,760,000"
   ]
  },
  {
   "cell_type": "code",
   "execution_count": null,
   "metadata": {
    "collapsed": true
   },
   "outputs": [],
   "source": [
    "attributes = set()\n",
    "\n",
    "def get_attr_recurs(x):\n",
    "    children = x.getchildren()\n",
    "    for y in children:\n",
    "        attributes.add((x.tag, y.tag))\n",
    "        get_attr_recurs(y)"
   ]
  },
  {
   "cell_type": "code",
   "execution_count": null,
   "metadata": {},
   "outputs": [
    {
     "name": "stdout",
     "output_type": "stream",
     "text": [
      "medline17n0001.xml\n",
      "medline17n0002.xml\n",
      "medline17n0003.xml\n",
      "medline17n0004.xml\n",
      "medline17n0005.xml\n",
      "medline17n0006.xml\n",
      "medline17n0007.xml\n",
      "medline17n0008.xml\n",
      "medline17n0009.xml\n",
      "medline17n0010.xml\n",
      "medline17n0011.xml\n"
     ]
    }
   ],
   "source": [
    "%%time\n",
    "\n",
    "for filename in sorted(os.listdir('data/src/')):\n",
    "    print(filename)\n",
    "    filepath = 'data/src/' + filename\n",
    "    root = ET.parse(filepath).getroot()\n",
    "    get_attr_recurs(root)\n",
    "    root.clear()"
   ]
  },
  {
   "cell_type": "code",
   "execution_count": null,
   "metadata": {},
   "outputs": [],
   "source": [
    "attributes"
   ]
  },
  {
   "cell_type": "code",
   "execution_count": null,
   "metadata": {
    "collapsed": true
   },
   "outputs": [],
   "source": []
  }
 ],
 "metadata": {
  "kernelspec": {
   "display_name": "Python 3",
   "language": "python",
   "name": "python3"
  },
  "language_info": {
   "codemirror_mode": {
    "name": "ipython",
    "version": 3
   },
   "file_extension": ".py",
   "mimetype": "text/x-python",
   "name": "python",
   "nbconvert_exporter": "python",
   "pygments_lexer": "ipython3",
   "version": "3.5.2"
  }
 },
 "nbformat": 4,
 "nbformat_minor": 2
}
