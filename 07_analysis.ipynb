{
 "cells": [
  {
   "cell_type": "code",
   "execution_count": 91,
   "metadata": {
    "collapsed": true
   },
   "outputs": [],
   "source": [
    "from collections import Counter\n",
    "from collections import defaultdict\n",
    "from string import punctuation\n",
    "\n",
    "import numpy as np\n",
    "import pandas as pd\n",
    "import seaborn as sns\n",
    "from nltk import word_tokenize\n",
    "from nltk.corpus import stopwords\n",
    "from gensim.corpora import Dictionary\n",
    "from gensim.models.doc2vec import Doc2Vec\n",
    "from gensim.models.doc2vec import TaggedDocument"
   ]
  },
  {
   "cell_type": "code",
   "execution_count": 92,
   "metadata": {
    "collapsed": true
   },
   "outputs": [],
   "source": [
    "%matplotlib inline"
   ]
  },
  {
   "cell_type": "code",
   "execution_count": 93,
   "metadata": {
    "collapsed": true
   },
   "outputs": [],
   "source": [
    "articles_df = pd.read_csv(\n",
    "    'data/articles_df.csv',\n",
    "    converters={\n",
    "        'AUTHORS': eval,\n",
    "        'KEYWORDS': eval,\n",
    "        'MESH': eval,\n",
    "        'PUB_TYPE': eval,\n",
    "    },\n",
    "    parse_dates=['DATE']\n",
    ").fillna('')"
   ]
  },
  {
   "cell_type": "code",
   "execution_count": 94,
   "metadata": {},
   "outputs": [
    {
     "data": {
      "text/plain": [
       "(72384, 12)"
      ]
     },
     "execution_count": 94,
     "metadata": {},
     "output_type": "execute_result"
    }
   ],
   "source": [
    "articles_df.shape"
   ]
  },
  {
   "cell_type": "code",
   "execution_count": 95,
   "metadata": {
    "collapsed": true
   },
   "outputs": [],
   "source": [
    "sss=set()\n",
    "for x in articles_df.MESH:\n",
    "    for y in x:\n",
    "        sss.add(y)"
   ]
  },
  {
   "cell_type": "code",
   "execution_count": 96,
   "metadata": {},
   "outputs": [
    {
     "data": {
      "text/plain": [
       "8090"
      ]
     },
     "execution_count": 96,
     "metadata": {},
     "output_type": "execute_result"
    }
   ],
   "source": [
    "len(sss)"
   ]
  },
  {
   "cell_type": "code",
   "execution_count": 97,
   "metadata": {},
   "outputs": [
    {
     "data": {
      "text/plain": [
       "{'Emotional Intelligence',\n",
       " 'Perioperative Care',\n",
       " 'Epidemiologic Studies',\n",
       " 'Anonymous Testing',\n",
       " 'Fisheries',\n",
       " 'Religion and Sex',\n",
       " 'Immunologic Factors',\n",
       " 'Physical Exertion',\n",
       " 'Rosa',\n",
       " 'Universities',\n",
       " 'Transplantation, Heterologous',\n",
       " 'Tomography, Emission-Computed, Single-Photon',\n",
       " 'Antiretroviral Therapy, Highly Active',\n",
       " 'Tuberculosis, Gastrointestinal',\n",
       " 'Patient Discharge Summaries',\n",
       " 'Cerebral Hemorrhage',\n",
       " 'Consumer Product Safety',\n",
       " 'Pregnancy Complications, Infectious',\n",
       " 'Hibernation',\n",
       " 'Education, Nursing',\n",
       " 'Lymphoma, Non-Hodgkin',\n",
       " 'Metabolomics',\n",
       " 'Voice Disorders',\n",
       " 'Lipid Metabolism',\n",
       " 'Social Responsibility',\n",
       " 'Medical Writing',\n",
       " 'Projection',\n",
       " 'Family Health',\n",
       " 'Community Health Workers',\n",
       " 'Cyclothymic Disorder',\n",
       " 'Antibiotics, Antitubercular',\n",
       " 'Head',\n",
       " 'Anorexia Nervosa',\n",
       " 'Diet Fads',\n",
       " 'Silicone Elastomers',\n",
       " 'Infusions, Intravenous',\n",
       " 'Hospital-Physician Relations',\n",
       " 'Gulf War',\n",
       " 'Trinidad and Tobago',\n",
       " 'Hospital Bed Capacity, 500 and over',\n",
       " 'Health Services Accessibility',\n",
       " 'Investments',\n",
       " 'Compassion Fatigue',\n",
       " 'Psychology, Medical',\n",
       " 'Robotics',\n",
       " 'Power (Psychology)',\n",
       " 'Agenesis of Corpus Callosum',\n",
       " 'Myoclonic Epilepsy, Juvenile',\n",
       " 'Pregnancy Complications, Neoplastic',\n",
       " 'Reproductive Control Agents',\n",
       " 'Sebaceous Gland Diseases',\n",
       " 'Neurofibromatosis 1',\n",
       " 'Medical Record Administrators',\n",
       " 'Venereology',\n",
       " 'Mass Screening',\n",
       " 'Immunity, Innate',\n",
       " 'Sulfides',\n",
       " 'Hemorrhagic Fever, Ebola',\n",
       " 'Hallucinogens',\n",
       " 'Disorders of Excessive Somnolence',\n",
       " 'Brain Ischemia',\n",
       " 'Child Abuse',\n",
       " 'Nutritionists',\n",
       " 'Drug Tolerance',\n",
       " 'Bell Palsy',\n",
       " 'Lactation Disorders',\n",
       " 'Neonatal Nursing',\n",
       " 'Leucine',\n",
       " 'Anesthetics, Local',\n",
       " 'Heart Valve Diseases',\n",
       " 'Receptors, Oxytocin',\n",
       " 'Hydroxymethylglutaryl-CoA Reductase Inhibitors',\n",
       " 'Anemia, Hypochromic',\n",
       " 'Sunbathing',\n",
       " 'Injections',\n",
       " 'Metaphysics',\n",
       " 'Pituitary Hormones',\n",
       " 'Cost Savings',\n",
       " 'Lipopolysaccharides',\n",
       " 'Indoleacetic Acids',\n",
       " 'Blood Pressure',\n",
       " 'Nociceptive Pain',\n",
       " 'Life',\n",
       " 'Muscle Development',\n",
       " 'Anabolic Agents',\n",
       " 'Protein Interaction Domains and Motifs',\n",
       " 'Toilet Training',\n",
       " 'Philosophy, Dental',\n",
       " 'Medical Laboratory Personnel',\n",
       " 'Glucagon',\n",
       " 'Antidepressive Agents, Second-Generation',\n",
       " 'Transferrin',\n",
       " 'Cardiovascular Nursing',\n",
       " 'Tyrosine',\n",
       " 'Shoulder',\n",
       " 'Hepatitis, Autoimmune',\n",
       " 'Gold Alloys',\n",
       " 'Reference Values',\n",
       " 'Reproductive Rights',\n",
       " 'Electrooculography',\n",
       " 'Health Services for the Aged',\n",
       " 'Neuroanatomy',\n",
       " 'Medroxyprogesterone Acetate',\n",
       " 'Developmental Biology',\n",
       " 'Hydrocephalus, Normal Pressure',\n",
       " 'Health Physics',\n",
       " 'Malaria',\n",
       " 'Genetic Predisposition to Disease',\n",
       " 'Atrophy',\n",
       " 'Bone Marrow Transplantation',\n",
       " \"Practice Patterns, Physicians'\",\n",
       " 'Travel',\n",
       " 'Cerebral Revascularization',\n",
       " 'Aphorisms and Proverbs as Topic',\n",
       " 'Illegitimacy',\n",
       " 'Normal Distribution',\n",
       " 'Sodium, Dietary',\n",
       " 'Seasonal Affective Disorder',\n",
       " 'Cyclohexanols',\n",
       " 'Multicenter Studies as Topic',\n",
       " 'Papillomavirus Infections',\n",
       " 'History, 21st Century',\n",
       " 'Injections, Jet',\n",
       " 'Dentures',\n",
       " 'Neovascularization, Pathologic',\n",
       " 'Aging, Premature',\n",
       " 'Formative Feedback',\n",
       " 'Chromosome Pairing',\n",
       " 'Cyprinidae',\n",
       " 'Construction Materials',\n",
       " 'Atrial Flutter',\n",
       " 'Rheumatology',\n",
       " 'Abscess',\n",
       " 'Reflex, Abnormal',\n",
       " 'Primary Dysautonomias',\n",
       " 'Autonomic Nervous System',\n",
       " 'History, Modern 1601-',\n",
       " 'Lichen Planus',\n",
       " 'Parkinson Disease',\n",
       " 'Back',\n",
       " 'Radiation Dosage',\n",
       " 'Aircraft',\n",
       " 'United States Occupational Safety and Health Administration',\n",
       " 'Actuarial Analysis',\n",
       " 'Leper Colonies',\n",
       " 'Child Rearing',\n",
       " 'Temperament',\n",
       " 'Measles-Mumps-Rubella Vaccine',\n",
       " 'Immunogenetics',\n",
       " 'Pulmonary Surgical Procedures',\n",
       " 'Diabetic Neuropathies',\n",
       " 'Membrane Glycoproteins',\n",
       " 'Haloperidol',\n",
       " 'Dimethoxyphenylethylamine',\n",
       " 'Flowers',\n",
       " 'Anxiety, Separation',\n",
       " 'Megestrol',\n",
       " 'Prostatitis',\n",
       " 'Twins, Dizygotic',\n",
       " 'Dietary Supplements',\n",
       " 'Point Mutation',\n",
       " 'Dyspareunia',\n",
       " 'Withholding Treatment',\n",
       " 'Imidazoles',\n",
       " 'Digestive System Abnormalities',\n",
       " 'Neoplasms',\n",
       " 'Preservation, Biological',\n",
       " 'Insulin Infusion Systems',\n",
       " 'Body Piercing',\n",
       " 'Receptors, Progesterone',\n",
       " 'Camping',\n",
       " 'Ethics Committees',\n",
       " 'Biomimetics',\n",
       " 'Depressive Disorder',\n",
       " 'Libraries, Nursing',\n",
       " 'Diagnostic Uses of Chemicals',\n",
       " 'Love',\n",
       " 'Maternal-Child Nursing',\n",
       " 'Vermont',\n",
       " 'Blood Volume Determination',\n",
       " 'Personality Inventory',\n",
       " 'Ecological and Environmental Phenomena',\n",
       " 'Anesthesia, Conduction',\n",
       " 'Papilledema',\n",
       " 'Prothrombin Time',\n",
       " 'Management Quality Circles',\n",
       " 'Liberia',\n",
       " 'Iron, Dietary',\n",
       " 'Panax',\n",
       " 'High-Frequency Jet Ventilation',\n",
       " 'Emotions',\n",
       " 'Disease Susceptibility',\n",
       " 'Braces',\n",
       " 'Organ Culture Techniques',\n",
       " 'Simplexvirus',\n",
       " 'Wakefulness',\n",
       " 'MMPI',\n",
       " 'Nephrotic Syndrome',\n",
       " 'Anesthesia, Dental',\n",
       " 'Hepatitis A Vaccines',\n",
       " 'Body Water',\n",
       " 'Prostaglandins, Synthetic',\n",
       " 'War Crimes',\n",
       " 'Hoarding Disorder',\n",
       " 'Maternal Behavior',\n",
       " 'Schools, Public Health',\n",
       " 'Cytochromes',\n",
       " 'Buttocks',\n",
       " 'Shoes',\n",
       " 'Muscle Cramp',\n",
       " 'Decision Support Techniques',\n",
       " 'Deinstitutionalization',\n",
       " 'Plant Structures',\n",
       " 'Orthotic Devices',\n",
       " 'Dentition',\n",
       " 'Group Practice, Prepaid',\n",
       " 'Neuroimaging',\n",
       " 'Security Measures',\n",
       " 'Sexually Transmitted Diseases, Bacterial',\n",
       " 'Hospitals, Private',\n",
       " 'Infection',\n",
       " 'Field Dependence-Independence',\n",
       " 'Adenoma, Acidophil',\n",
       " 'Respiratory Mechanics',\n",
       " 'Catholicism',\n",
       " 'Speech Production Measurement',\n",
       " 'Cluster Analysis',\n",
       " 'Body Size',\n",
       " 'Abdominal Fat',\n",
       " 'Antineoplastic Agents, Hormonal',\n",
       " 'Drug Stability',\n",
       " 'Failure to Thrive',\n",
       " 'Octamer Transcription Factor-3',\n",
       " 'Acupressure',\n",
       " 'Serotonin Antagonists',\n",
       " 'Healthcare Financing',\n",
       " 'Intracranial Pressure',\n",
       " 'Ethics, Business',\n",
       " 'Insect Control',\n",
       " 'Community-Based Participatory Research',\n",
       " 'Menotropins',\n",
       " 'Isoxazoles',\n",
       " 'Frozen Sections',\n",
       " 'Dietary Fats',\n",
       " 'Civil Disorders',\n",
       " 'Gingivectomy',\n",
       " 'Spinal Curvatures',\n",
       " 'Antibodies, Bacterial',\n",
       " 'Tilt-Table Test',\n",
       " 'Nuclear Weapons',\n",
       " 'Parental Notification',\n",
       " 'Thanatology',\n",
       " 'European Union',\n",
       " 'Prosthodontics',\n",
       " 'Community-Institutional Relations',\n",
       " 'Drug Resistance, Bacterial',\n",
       " 'Magic',\n",
       " 'Occipital Bone',\n",
       " 'Decapitation',\n",
       " 'Bioethics',\n",
       " 'Subacute Care',\n",
       " 'Patient Handoff',\n",
       " 'Pulmonary Fibrosis',\n",
       " 'Neoplasms, Germ Cell and Embryonal',\n",
       " 'Workload',\n",
       " 'Cell Membrane',\n",
       " 'Hate',\n",
       " 'Career Choice',\n",
       " 'Flatfoot',\n",
       " 'Bibliotherapy',\n",
       " 'Indian Ocean Islands',\n",
       " 'Dental Restoration, Permanent',\n",
       " 'Specialties, Surgical',\n",
       " 'Kinesiology, Applied',\n",
       " 'Diuretics',\n",
       " 'Disability Evaluation',\n",
       " 'Transcriptional Activation',\n",
       " 'Dental Equipment',\n",
       " 'Cardiovascular System',\n",
       " 'Periarthritis',\n",
       " 'Neonatology',\n",
       " 'Wyoming',\n",
       " 'Birth Rate',\n",
       " 'Angiotensin II',\n",
       " 'Tooth Germ',\n",
       " 'Intestinal Pseudo-Obstruction',\n",
       " 'Dementia',\n",
       " 'Proxy',\n",
       " 'Arm',\n",
       " 'Projective Techniques',\n",
       " 'Algorithms',\n",
       " 'Avoidance Learning',\n",
       " 'CADASIL',\n",
       " 'Polymorphism, Genetic',\n",
       " 'Cross-Sectional Studies',\n",
       " 'Speech Disorders',\n",
       " 'Bone Nails',\n",
       " 'International Classification of Diseases',\n",
       " 'Nursing, Private Duty',\n",
       " 'Digestive System',\n",
       " 'Medical Futility',\n",
       " 'Phencyclidine',\n",
       " 'Greece',\n",
       " 'Comparative Effectiveness Research',\n",
       " 'Social Sciences',\n",
       " 'Multiple Birth Offspring',\n",
       " '8-Bromo Cyclic Adenosine Monophosphate',\n",
       " 'Resuscitation',\n",
       " 'Obstetric Labor Complications',\n",
       " 'Carpal Tunnel Syndrome',\n",
       " 'Threonine',\n",
       " 'Stanozolol',\n",
       " 'Triazolam',\n",
       " 'Advertising as Topic',\n",
       " 'Transsexualism',\n",
       " 'Trees',\n",
       " 'Colic',\n",
       " 'Root Canal Therapy',\n",
       " 'Health Maintenance Organizations',\n",
       " 'Food Analysis',\n",
       " 'Gastrointestinal Motility',\n",
       " 'Private Practice',\n",
       " 'Tooth Diseases',\n",
       " 'Pulmonary Emphysema',\n",
       " 'Existentialism',\n",
       " 'Sewage',\n",
       " 'Europium',\n",
       " 'Home Health Aides',\n",
       " 'Evidence-Based Nursing',\n",
       " 'Facies',\n",
       " 'Chemical Warfare',\n",
       " 'Set (Psychology)',\n",
       " 'Preoperative Care',\n",
       " 'HIV Seronegativity',\n",
       " 'Ecological Systems, Closed',\n",
       " 'Hypersensitivity, Delayed',\n",
       " 'Neonatal Screening',\n",
       " 'Gitelman Syndrome',\n",
       " 'Chromatin',\n",
       " 'Age Distribution',\n",
       " 'Education, Premedical',\n",
       " 'Cultural Evolution',\n",
       " 'Occipital Lobe',\n",
       " 'Germ Theory of Disease',\n",
       " 'Paternal Behavior',\n",
       " 'Sympathectomy',\n",
       " 'Aluminum',\n",
       " 'Polynesia',\n",
       " 'Genetic Variation',\n",
       " 'Emergency Medicine',\n",
       " 'Paroxetine',\n",
       " 'Huntington Disease',\n",
       " 'Genotype',\n",
       " 'Signs and Symptoms',\n",
       " 'Lupus Erythematosus, Systemic',\n",
       " 'Leontopithecus',\n",
       " 'Infertility, Male',\n",
       " 'Intestinal Obstruction',\n",
       " 'Libraries, Medical',\n",
       " 'Ointments',\n",
       " 'Norpregnenes',\n",
       " 'Professional Role',\n",
       " 'Incisor',\n",
       " 'Bacterial Proteins',\n",
       " 'Brain Chemistry',\n",
       " 'Health Services',\n",
       " 'Multivariate Analysis',\n",
       " 'Infant, Extremely Low Birth Weight',\n",
       " 'Typhus, Epidemic Louse-Borne',\n",
       " 'Analysis of Variance',\n",
       " 'Noise',\n",
       " 'Elective Surgical Procedures',\n",
       " 'Right to Die',\n",
       " 'Internationality',\n",
       " 'Terbutaline',\n",
       " 'Fluconazole',\n",
       " 'Raffinose',\n",
       " 'Nova Scotia',\n",
       " 'Computer-Aided Design',\n",
       " 'Value of Life',\n",
       " 'Hip Joint',\n",
       " 'Geographic Information Systems',\n",
       " 'Macaca mulatta',\n",
       " 'Arginine',\n",
       " 'Germany, East',\n",
       " 'Diet, Vegetarian',\n",
       " 'Dental Casting Technique',\n",
       " 'Irritants',\n",
       " 'World Health Organization',\n",
       " 'Water Microbiology',\n",
       " 'Lightning',\n",
       " 'Contraceptives, Postcoital',\n",
       " 'Osteopathic Medicine',\n",
       " 'Flicker Fusion',\n",
       " 'Journalism, Dental',\n",
       " 'Group Processes',\n",
       " 'Dental Models',\n",
       " 'Serum',\n",
       " 'Weight Lifting',\n",
       " 'Catharsis',\n",
       " 'Railroads',\n",
       " 'Analgesics, Non-Narcotic',\n",
       " 'Plastics',\n",
       " 'Species Specificity',\n",
       " 'Drug Combinations',\n",
       " 'Tourette Syndrome',\n",
       " 'Gonadal Dysgenesis',\n",
       " 'Acupuncture Points',\n",
       " 'Pulsatile Flow',\n",
       " 'Visual Cortex',\n",
       " 'Czechoslovakia',\n",
       " 'Exocrine Glands',\n",
       " 'Reminder Systems',\n",
       " 'Gamma Rays',\n",
       " 'Contusions',\n",
       " 'Vitamin B 12',\n",
       " 'Anesthesia, Intravenous',\n",
       " 'Mitotic Index',\n",
       " 'Non-alcoholic Fatty Liver Disease',\n",
       " 'Public Assistance',\n",
       " 'Heterosexuality',\n",
       " 'Gender Identity',\n",
       " 'Heart Neoplasms',\n",
       " 'Adrenal Hyperplasia, Congenital',\n",
       " 'Child Reactive Disorders',\n",
       " 'X Chromosome',\n",
       " 'Palau',\n",
       " 'Animals, Domestic',\n",
       " 'Judgment',\n",
       " 'Ferrous Compounds',\n",
       " 'Blood Group Antigens',\n",
       " 'Digitalis Glycosides',\n",
       " 'United States Department of Veterans Affairs',\n",
       " 'Dominican Republic',\n",
       " 'Community Mental Health Centers',\n",
       " 'Kidney',\n",
       " 'Veins',\n",
       " 'Parents',\n",
       " 'Consumer Behavior',\n",
       " 'Abdominal Injuries',\n",
       " 'Central Nervous System',\n",
       " 'Analog-Digital Conversion',\n",
       " 'Hypothalamus',\n",
       " 'Dissociative Disorders',\n",
       " 'Receptors, Estrogen',\n",
       " 'Audiometry, Speech',\n",
       " 'Punicaceae',\n",
       " 'Endocrine System Diseases',\n",
       " 'Family Practice',\n",
       " 'Life Support Care',\n",
       " 'Office Visits',\n",
       " 'Colonic Diseases',\n",
       " 'Blue Cross Blue Shield Insurance Plans',\n",
       " 'Cohort Studies',\n",
       " 'Motor Skills',\n",
       " 'Philosophy, Nursing',\n",
       " 'Phosphorus Isotopes',\n",
       " 'Southeastern United States',\n",
       " 'Acetaminophen',\n",
       " 'Arthritis, Psoriatic',\n",
       " 'Echinops Plant',\n",
       " 'Tongue',\n",
       " 'Social Mobility',\n",
       " 'Biological Availability',\n",
       " 'Arousal',\n",
       " 'Amino Acid Sequence',\n",
       " 'Treatment Failure',\n",
       " 'Diabetes Insipidus, Neurogenic',\n",
       " 'Exobiology',\n",
       " 'Social Work, Psychiatric',\n",
       " 'Carcinogens, Environmental',\n",
       " 'Anticonvulsants',\n",
       " 'Bacteriuria',\n",
       " 'Organization and Administration',\n",
       " 'Population Density',\n",
       " 'Rectal Neoplasms',\n",
       " 'Partnership Practice, Dental',\n",
       " 'Triglycerides',\n",
       " 'Appalachian Region',\n",
       " 'Optogenetics',\n",
       " 'Hepatitis B Surface Antigens',\n",
       " 'Upper Extremity',\n",
       " 'Pathology, Surgical',\n",
       " 'Medicaid',\n",
       " 'Cyclophosphamide',\n",
       " 'Spinal Stenosis',\n",
       " 'Detergents',\n",
       " 'Bias (Epidemiology)',\n",
       " 'Homicide',\n",
       " 'Intrauterine Devices',\n",
       " 'Silymarin',\n",
       " 'Siblings',\n",
       " 'Ion Channel Gating',\n",
       " 'Mice, Knockout',\n",
       " 'Coffee',\n",
       " 'Drug Carriers',\n",
       " 'Social Behavior',\n",
       " 'Interview, Psychological',\n",
       " 'Antigens, CD57',\n",
       " 'Lymphoid Tissue',\n",
       " 'Mephenesin',\n",
       " 'Antistreptolysin',\n",
       " 'Scurvy',\n",
       " 'Neuritis',\n",
       " 'Probability',\n",
       " 'Recombination, Genetic',\n",
       " 'Hyoid Bone',\n",
       " 'Horses',\n",
       " 'In Vitro Techniques',\n",
       " 'Social Alienation',\n",
       " 'Eagles',\n",
       " 'Models, Chemical',\n",
       " 'Orthodontics, Preventive',\n",
       " 'Ecosystem',\n",
       " 'Clinical Trials, Phase III as Topic',\n",
       " 'Free Radicals',\n",
       " 'Equipment Failure Analysis',\n",
       " 'Galaxies',\n",
       " 'Semen Preservation',\n",
       " 'Decision Making, Computer-Assisted',\n",
       " 'National Academies of Science, Engineering, and Medicine (U.S.) Health and Medicine Division',\n",
       " 'Diskectomy',\n",
       " 'Therapeutics',\n",
       " 'Arsenic Poisoning',\n",
       " 'Confusion',\n",
       " 'Sex Differentiation',\n",
       " 'Phenindione',\n",
       " 'Health Behavior',\n",
       " 'Computer Terminals',\n",
       " 'Dental Marginal Adaptation',\n",
       " 'Cell Communication',\n",
       " 'Early Detection of Cancer',\n",
       " 'Electric Stimulation Therapy',\n",
       " 'Streptomycin',\n",
       " 'Health Literacy',\n",
       " 'Cell Respiration',\n",
       " 'Hypertension, Renal',\n",
       " 'Medicine, Unani',\n",
       " 'Hematologic Tests',\n",
       " 'Dexamethasone',\n",
       " 'Immunoglobulin A, Secretory',\n",
       " 'Dentin',\n",
       " 'Vagus Nerve',\n",
       " 'Waiting Lists',\n",
       " 'Salpingectomy',\n",
       " 'Vitamins',\n",
       " 'Libraries, Digital',\n",
       " 'Clinical Protocols',\n",
       " 'Finger Injuries',\n",
       " 'Collagen Diseases',\n",
       " 'Prostaglandins',\n",
       " 'Animal Nutritional Physiological Phenomena',\n",
       " 'Delegation, Professional',\n",
       " 'Sterilization',\n",
       " 'Intramolecular Oxidoreductases',\n",
       " 'Blood Glucose',\n",
       " 'Hypersensitivity, Immediate',\n",
       " 'DNA Primers',\n",
       " 'HIV',\n",
       " 'Thoracic Diseases',\n",
       " 'Benin',\n",
       " 'Medical Informatics Computing',\n",
       " 'Interviews as Topic',\n",
       " 'Mouth Breathing',\n",
       " 'Diabetic Foot',\n",
       " 'Cholesterol Esters',\n",
       " 'Postpartum Period',\n",
       " 'Oxygen Consumption',\n",
       " 'Dental Prosthesis, Implant-Supported',\n",
       " 'Rodentia',\n",
       " 'Mandatory Programs',\n",
       " 'Dental Restoration, Temporary',\n",
       " 'Dark Adaptation',\n",
       " 'Cysticercosis',\n",
       " 'Internal-External Control',\n",
       " 'Neck Pain',\n",
       " 'Diagnostic Self Evaluation',\n",
       " 'Frail Elderly',\n",
       " 'Insurance, Disability',\n",
       " '2,4-Dichlorophenoxyacetic Acid',\n",
       " 'Hepatitis B virus',\n",
       " 'Social Work',\n",
       " 'Religion and Medicine',\n",
       " 'Matched-Pair Analysis',\n",
       " 'Electricity',\n",
       " 'Quantitative Trait, Heritable',\n",
       " 'Basal Ganglia Diseases',\n",
       " 'Breathing Exercises',\n",
       " 'Clinical Chemistry Tests',\n",
       " 'Phenolphthaleins',\n",
       " 'Chicago',\n",
       " 'Oligochaeta',\n",
       " 'Economics, Pharmaceutical',\n",
       " 'Patient Isolation',\n",
       " 'Cytochrome P-450 CYP2D6',\n",
       " 'Akathisia, Drug-Induced',\n",
       " 'International Educational Exchange',\n",
       " 'Muscle Relaxation',\n",
       " 'Arab World',\n",
       " 'Paternal Deprivation',\n",
       " 'Cytoskeletal Proteins',\n",
       " 'Aptitude',\n",
       " 'Massachusetts',\n",
       " 'Conditioning, Eyelid',\n",
       " 'Methyltyrosines',\n",
       " 'Manikins',\n",
       " 'Tobacco Use Cessation Products',\n",
       " 'Amyloid beta-Protein Precursor',\n",
       " 'Morphogenesis',\n",
       " 'Communication',\n",
       " 'Phosphatidylcholines',\n",
       " 'Chemotherapy, Adjuvant',\n",
       " 'Surgicenters',\n",
       " 'Imipramine',\n",
       " 'Dietetics',\n",
       " 'Administration, Rectal',\n",
       " 'New York',\n",
       " 'Health Education, Dental',\n",
       " 'Otolaryngology',\n",
       " 'Stiff-Person Syndrome',\n",
       " 'Management Information Systems',\n",
       " 'Cartilage',\n",
       " 'Vasopressins',\n",
       " 'Sex Workers',\n",
       " 'HIV Infections',\n",
       " 'Animal Diseases',\n",
       " 'Metabolic Syndrome X',\n",
       " 'Spermatic Cord Torsion',\n",
       " 'Pain Management',\n",
       " 'Birth Weight',\n",
       " 'Models, Statistical',\n",
       " 'Health Planning Guidelines',\n",
       " 'Energy Metabolism',\n",
       " 'Encephalitis Virus, St. Louis',\n",
       " 'Vincristine',\n",
       " 'Emaciation',\n",
       " 'Vascular Endothelial Growth Factor A',\n",
       " \"Women's Health Services\",\n",
       " 'Herpesvirus 3, Human',\n",
       " 'Foster Home Care',\n",
       " 'Hospitals, Convalescent',\n",
       " 'Refractive Errors',\n",
       " 'Euthanasia, Active, Voluntary',\n",
       " 'Breeding',\n",
       " 'Insurance Benefits',\n",
       " 'Sensation Disorders',\n",
       " 'Social Conformity',\n",
       " 'Marital Therapy',\n",
       " 'Immunoglobulin A',\n",
       " 'Clinical Enzyme Tests',\n",
       " 'Receptors, Adrenergic, alpha',\n",
       " 'Advance Directives',\n",
       " 'Pulmonary Ventilation',\n",
       " 'Lymphocyte Count',\n",
       " 'Adenofibroma',\n",
       " 'Recovery of Function',\n",
       " 'Perciformes',\n",
       " 'Hand Transplantation',\n",
       " 'Prurigo',\n",
       " 'Benchmarking',\n",
       " 'Splenomegaly',\n",
       " 'Neuropathology',\n",
       " 'Environmental Illness',\n",
       " 'Hallucinations',\n",
       " 'Eunuchism',\n",
       " 'Medicine, Chinese Traditional',\n",
       " 'Diffuse Cerebral Sclerosis of Schilder',\n",
       " 'Golf',\n",
       " 'Nerve Net',\n",
       " 'Dental Occlusion, Traumatic',\n",
       " 'Intercostal Nerves',\n",
       " 'Visual Acuity',\n",
       " 'Genitalia, Male',\n",
       " 'Neuromuscular Blockade',\n",
       " 'General Surgery',\n",
       " 'Physical Stimulation',\n",
       " 'Cardiovascular Agents',\n",
       " 'Kidney Diseases',\n",
       " 'Psychology, Adolescent',\n",
       " 'Residential Facilities',\n",
       " 'Bangladesh',\n",
       " 'Vertebral Artery',\n",
       " 'Lymph Nodes',\n",
       " 'Intestinal Absorption',\n",
       " 'Hand Strength',\n",
       " 'Occultism',\n",
       " 'Dietary Carbohydrates',\n",
       " 'Autobiography as Topic',\n",
       " 'Sri Lanka',\n",
       " 'Bibliography as Topic',\n",
       " 'Nuclear Physics',\n",
       " 'Hearing Loss',\n",
       " 'Retinal Degeneration',\n",
       " 'Muscle Weakness',\n",
       " 'Stomach Neoplasms',\n",
       " 'Plasma Volume',\n",
       " 'Nail Biting',\n",
       " 'Amino Acids',\n",
       " 'Nevus, Pigmented',\n",
       " 'Dance Therapy',\n",
       " 'Body Weights and Measures',\n",
       " 'Personal Space',\n",
       " 'Malpractice',\n",
       " 'Flatulence',\n",
       " 'Administrative Personnel',\n",
       " 'Ligation',\n",
       " 'Tuberculosis, Pulmonary',\n",
       " 'Pharmacopoeias, Homeopathic',\n",
       " 'Accident Proneness',\n",
       " 'Ear',\n",
       " 'Pediatric Dentistry',\n",
       " 'Hungary',\n",
       " 'Drug and Narcotic Control',\n",
       " 'Unconsciousness',\n",
       " 'Reproductive Health Services',\n",
       " 'Arthritis, Infectious',\n",
       " 'Spine',\n",
       " 'Asperger Syndrome',\n",
       " 'Oxalates',\n",
       " 'Blastocyst',\n",
       " 'Silicon Dioxide',\n",
       " 'Vision, Monocular',\n",
       " 'Data Accuracy',\n",
       " 'Gastrointestinal Neoplasms',\n",
       " 'Food Deprivation',\n",
       " 'Neurons',\n",
       " 'Carrier Proteins',\n",
       " 'Poliovirus',\n",
       " 'Tail',\n",
       " 'CD4 Lymphocyte Count',\n",
       " 'Duplicate Publication as Topic',\n",
       " 'Hospital Information Systems',\n",
       " 'Dissertations, Academic as Topic',\n",
       " 'Hydroxybutyrates',\n",
       " 'Computers',\n",
       " 'Arthropods',\n",
       " 'Health Communication',\n",
       " 'Anovulation',\n",
       " 'Cardiac Pacing, Artificial',\n",
       " 'Gonadotropins, Pituitary',\n",
       " 'Nasal Lavage Fluid',\n",
       " 'Lactose',\n",
       " 'Cervix Uteri',\n",
       " 'Utilization Review',\n",
       " 'Dental Cavity Lining',\n",
       " 'Laboratories, Dental',\n",
       " 'Schizophrenia, Paranoid',\n",
       " 'Respiratory Insufficiency',\n",
       " 'Mouth Protectors',\n",
       " 'Heart Auscultation',\n",
       " 'Biopsy, Needle',\n",
       " 'Directive Counseling',\n",
       " 'Body Mass Index',\n",
       " 'Copulation',\n",
       " 'Exocytosis',\n",
       " 'Nerve Compression Syndromes',\n",
       " 'Judicial Role',\n",
       " 'Estrogens',\n",
       " 'Health Care Reform',\n",
       " 'Polycythemia',\n",
       " 'Pregnancy, Abdominal',\n",
       " 'Radio Waves',\n",
       " 'HIV-1',\n",
       " 'False Negative Reactions',\n",
       " 'Psychoanalysis',\n",
       " 'Vas Deferens',\n",
       " 'Heat Stress Disorders',\n",
       " 'Magnetics',\n",
       " 'Genomics',\n",
       " 'Bone Diseases',\n",
       " 'Lead',\n",
       " 'Afferent Pathways',\n",
       " 'Muscle Spasticity',\n",
       " 'Chin',\n",
       " 'N-Methylaspartate',\n",
       " 'Heating',\n",
       " 'Commission on Professional and Hospital Activities',\n",
       " 'Hospitals, University',\n",
       " 'Colitis, Ulcerative',\n",
       " 'Forced Expiratory Volume',\n",
       " 'Philadelphia',\n",
       " 'Bromazepam',\n",
       " 'Inhibition (Psychology)',\n",
       " 'Atropa belladonna',\n",
       " 'Child Psychiatry',\n",
       " 'Sexual Dysfunctions, Psychological',\n",
       " 'Personnel Staffing and Scheduling Information Systems',\n",
       " 'Pancreas Transplantation',\n",
       " 'Hearing',\n",
       " 'Sicily',\n",
       " 'Pyelonephritis',\n",
       " 'Water Intoxication',\n",
       " 'Mononeuropathies',\n",
       " 'Calcium-Calmodulin-Dependent Protein Kinases',\n",
       " 'Papillomaviridae',\n",
       " 'Spinacia oleracea',\n",
       " 'Methotrimeprazine',\n",
       " 'Blood Coagulation Tests',\n",
       " 'Information Centers',\n",
       " 'Calcium Carbonate',\n",
       " 'Mathematics',\n",
       " 'Incidence',\n",
       " 'Aphasia, Wernicke',\n",
       " 'Gastric Acidity Determination',\n",
       " 'Lingual Nerve Injuries',\n",
       " 'Duty to Warn',\n",
       " 'Health Planning',\n",
       " 'Joints',\n",
       " 'Accounting',\n",
       " 'Hostility',\n",
       " 'Obstetrics',\n",
       " 'Computer Systems',\n",
       " 'Hyaluronic Acid',\n",
       " 'Family Conflict',\n",
       " 'Democracy',\n",
       " 'Platelet Aggregation Inhibitors',\n",
       " 'Molar, Third',\n",
       " 'Military Medicine',\n",
       " 'Fever',\n",
       " 'Maternal Deprivation',\n",
       " 'Tooth Erosion',\n",
       " 'Botulinum Toxins',\n",
       " 'Psychology, Social',\n",
       " 'Eye Diseases',\n",
       " 'Fatal Outcome',\n",
       " 'Imidazoline Receptors',\n",
       " 'Cold Temperature',\n",
       " 'Hemoglobin A, Glycosylated',\n",
       " 'Drug Hypersensitivity',\n",
       " 'Acetylcysteine',\n",
       " 'Biological Transport',\n",
       " 'Basilar Artery',\n",
       " 'Hemodynamics',\n",
       " 'Erythroblastosis, Fetal',\n",
       " 'Prednisone',\n",
       " 'Contraception',\n",
       " 'Telepathology',\n",
       " 'Intraoperative Awareness',\n",
       " 'Intracranial Embolism and Thrombosis',\n",
       " 'Time',\n",
       " 'United Arab Emirates',\n",
       " 'Animal Experimentation',\n",
       " 'Factor X',\n",
       " 'Hexamethonium Compounds',\n",
       " 'Pruritus',\n",
       " 'Methohexital',\n",
       " 'Genetic Vectors',\n",
       " 'Labor, Obstetric',\n",
       " 'Myocardial Infarction',\n",
       " 'Postoperative Complications',\n",
       " 'Lithuania',\n",
       " 'Nose Deformities, Acquired',\n",
       " 'Animal Rights',\n",
       " 'Powders',\n",
       " 'Endocarditis, Bacterial',\n",
       " 'Massage',\n",
       " 'Psychotherapy, Psychodynamic',\n",
       " 'Prenatal Exposure Delayed Effects',\n",
       " 'Semen Analysis',\n",
       " 'Amniotic Fluid',\n",
       " 'Hobbies',\n",
       " 'Maxillary Sinus',\n",
       " 'Glycemic Index',\n",
       " 'Young Adult',\n",
       " 'Pregnancy, Tubal',\n",
       " 'Statistics as Topic',\n",
       " 'Dwarfism',\n",
       " 'Pathology, Molecular',\n",
       " 'Ice',\n",
       " 'Corticotropin-Releasing Hormone',\n",
       " 'Post-Concussion Syndrome',\n",
       " 'Durable Medical Equipment',\n",
       " 'Hospital Bed Capacity, under 100',\n",
       " 'Thalidomide',\n",
       " 'After-Hours Care',\n",
       " 'Nutrition Assessment',\n",
       " 'Perphenazine',\n",
       " 'Street Drugs',\n",
       " 'Influenza Vaccines',\n",
       " 'Taurine',\n",
       " 'Nanotechnology',\n",
       " 'Psychology, Educational',\n",
       " 'Blushing',\n",
       " 'Cobalt Isotopes',\n",
       " 'Licensure, Hospital',\n",
       " 'Mentally Ill Persons',\n",
       " 'Ceruloplasmin',\n",
       " 'Biofeedback, Psychology',\n",
       " 'Angina Pectoris, Variant',\n",
       " 'Angola',\n",
       " 'Animal Population Groups',\n",
       " 'Central Nervous System Depressants',\n",
       " 'Urbanization',\n",
       " 'Hand Dermatoses',\n",
       " 'Tissue Adhesions',\n",
       " 'Resource Allocation',\n",
       " 'Scalp',\n",
       " 'Biomedical Technology',\n",
       " 'Psilocybin',\n",
       " 'Imitative Behavior',\n",
       " 'Triclosan',\n",
       " 'Jamaica',\n",
       " 'Life Cycle Stages',\n",
       " 'Ferritins',\n",
       " 'Musculoskeletal Diseases',\n",
       " 'Product Packaging',\n",
       " 'Ganglionic Stimulants',\n",
       " 'Delaware',\n",
       " 'Locus Coeruleus',\n",
       " 'United States Department of Defense',\n",
       " 'Fractures, Bone',\n",
       " 'Infant, Newborn',\n",
       " 'Soccer',\n",
       " 'Birth Intervals',\n",
       " 'Amputation',\n",
       " 'Medicine in Literature',\n",
       " 'Visual Fields',\n",
       " 'Literature, Medieval',\n",
       " 'Object Attachment',\n",
       " 'Physiognomy',\n",
       " 'Maternal Mortality',\n",
       " 'Lipreading',\n",
       " 'Hypoxia',\n",
       " 'Eosinophilia',\n",
       " 'Managed Competition',\n",
       " 'Term Birth',\n",
       " 'Life Support Systems',\n",
       " 'Space Maintenance, Orthodontic',\n",
       " 'Adenoidectomy',\n",
       " 'Silk',\n",
       " 'Trichotillomania',\n",
       " 'Correspondence as Topic',\n",
       " 'Bezoars',\n",
       " 'Institutional Management Teams',\n",
       " 'Lymphatic System',\n",
       " 'Acrocephalosyndactylia',\n",
       " 'Tinea',\n",
       " 'HLA Antigens',\n",
       " 'Nurse Clinicians',\n",
       " 'Fluorides, Topical',\n",
       " 'Health Status Disparities',\n",
       " 'Pharmaceutical Preparations',\n",
       " 'Self-Help Groups',\n",
       " 'Infant Food',\n",
       " 'Photobiology',\n",
       " 'Internship, Nonmedical',\n",
       " 'Educational Measurement',\n",
       " 'Hospitalization',\n",
       " 'Cyclohexanecarboxylic Acids',\n",
       " 'Return to Work',\n",
       " 'Cardiotonic Agents',\n",
       " 'Therapeutic Irrigation',\n",
       " 'Critical Period (Psychology)',\n",
       " 'Human Rights',\n",
       " 'Nontherapeutic Human Experimentation',\n",
       " 'Aspartic Acid',\n",
       " 'Dental Implants, Single-Tooth',\n",
       " 'Endorphins',\n",
       " 'Exanthema',\n",
       " 'National Institute of Diabetes and Digestive and Kidney Diseases (U.S.)',\n",
       " 'Posters as Topic',\n",
       " 'Paired-Associate Learning',\n",
       " 'Epilepsy, Tonic-Clonic',\n",
       " 'Capgras Syndrome',\n",
       " 'Synaptic Transmission',\n",
       " 'Drug Resistance, Microbial',\n",
       " 'Copying Processes',\n",
       " 'Patient Selection',\n",
       " 'User-Computer Interface',\n",
       " 'Burundi',\n",
       " 'Hypermedia',\n",
       " 'Death, Sudden, Cardiac',\n",
       " 'Diffusion Magnetic Resonance Imaging',\n",
       " 'Epidemics',\n",
       " 'Epilepsy, Absence',\n",
       " 'Efficiency',\n",
       " 'Cerebral Angiography',\n",
       " 'Anger',\n",
       " 'Minor Surgical Procedures',\n",
       " 'Dietary Services',\n",
       " 'Pharmacopoeias as Topic',\n",
       " 'Brain Death',\n",
       " 'Community Psychiatry',\n",
       " 'Iodide Peroxidase',\n",
       " 'Achondroplasia',\n",
       " 'Individuality',\n",
       " 'Ophthalmology',\n",
       " 'Drug Eruptions',\n",
       " 'Amides',\n",
       " 'Atlases as Topic',\n",
       " 'Oils',\n",
       " 'Stress Disorders, Post-Traumatic',\n",
       " 'Oropharynx',\n",
       " 'Drug Costs',\n",
       " 'Penicillins',\n",
       " 'Hospitals, General',\n",
       " 'Iris',\n",
       " 'Child Health Services',\n",
       " 'Job Description',\n",
       " 'Bone Marrow',\n",
       " ...}"
      ]
     },
     "execution_count": 97,
     "metadata": {},
     "output_type": "execute_result"
    }
   ],
   "source": [
    "sss"
   ]
  },
  {
   "cell_type": "code",
   "execution_count": 5,
   "metadata": {},
   "outputs": [
    {
     "data": {
      "text/html": [
       "<div>\n",
       "<style>\n",
       "    .dataframe thead tr:only-child th {\n",
       "        text-align: right;\n",
       "    }\n",
       "\n",
       "    .dataframe thead th {\n",
       "        text-align: left;\n",
       "    }\n",
       "\n",
       "    .dataframe tbody tr th {\n",
       "        vertical-align: top;\n",
       "    }\n",
       "</style>\n",
       "<table border=\"1\" class=\"dataframe\">\n",
       "  <thead>\n",
       "    <tr style=\"text-align: right;\">\n",
       "      <th></th>\n",
       "      <th>ID</th>\n",
       "      <th>TITLE</th>\n",
       "      <th>AUTHORS</th>\n",
       "      <th>ABSTRACT</th>\n",
       "      <th>DATE</th>\n",
       "      <th>KEYWORDS</th>\n",
       "      <th>LANGUAGE</th>\n",
       "      <th>MESH</th>\n",
       "      <th>PUB_TYPE</th>\n",
       "      <th>JOURNAL</th>\n",
       "      <th>VOLUME</th>\n",
       "      <th>ISSUE</th>\n",
       "    </tr>\n",
       "  </thead>\n",
       "  <tbody>\n",
       "    <tr>\n",
       "      <th>0</th>\n",
       "      <td>713</td>\n",
       "      <td>Plasma/blood level monitoring techniques in ps...</td>\n",
       "      <td>[T B Cooper, G M Simpson]</td>\n",
       "      <td></td>\n",
       "      <td>1975-10-01</td>\n",
       "      <td>[]</td>\n",
       "      <td>eng</td>\n",
       "      <td>[Enzyme Induction, Humans, Lithium, Methods, P...</td>\n",
       "      <td>[Journal Article]</td>\n",
       "      <td>Psychopharmacology bulletin</td>\n",
       "      <td>11</td>\n",
       "      <td>4</td>\n",
       "    </tr>\n",
       "    <tr>\n",
       "      <th>1</th>\n",
       "      <td>1316</td>\n",
       "      <td>Psychiatric myths and their victims.</td>\n",
       "      <td>[S Page]</td>\n",
       "      <td></td>\n",
       "      <td>1976-01-01</td>\n",
       "      <td>[]</td>\n",
       "      <td>eng</td>\n",
       "      <td>[Allied Health Personnel, Hospitals, Psychiatr...</td>\n",
       "      <td>[Journal Article]</td>\n",
       "      <td>Dimensions in health service</td>\n",
       "      <td>53</td>\n",
       "      <td>1</td>\n",
       "    </tr>\n",
       "    <tr>\n",
       "      <th>2</th>\n",
       "      <td>4393</td>\n",
       "      <td>Psychiatric consultations with gynecologic pat...</td>\n",
       "      <td>[J J Schwab]</td>\n",
       "      <td></td>\n",
       "      <td>1975-01-01</td>\n",
       "      <td>[]</td>\n",
       "      <td>eng</td>\n",
       "      <td>[Counseling, Female, Genital Diseases, Female,...</td>\n",
       "      <td>[Journal Article]</td>\n",
       "      <td>International journal of fertility</td>\n",
       "      <td>20</td>\n",
       "      <td>3</td>\n",
       "    </tr>\n",
       "    <tr>\n",
       "      <th>3</th>\n",
       "      <td>4485</td>\n",
       "      <td>The heterogeneity of asthmatic patients--an in...</td>\n",
       "      <td>[S L Spector, R S Farr]</td>\n",
       "      <td></td>\n",
       "      <td>1976-05-01</td>\n",
       "      <td>[]</td>\n",
       "      <td>eng</td>\n",
       "      <td>[Adrenal Cortex Hormones, Adrenergic beta-Anta...</td>\n",
       "      <td>[Case Reports, Journal Article, Research Suppo...</td>\n",
       "      <td>The Journal of allergy and clinical immunology</td>\n",
       "      <td>57</td>\n",
       "      <td>5</td>\n",
       "    </tr>\n",
       "    <tr>\n",
       "      <th>4</th>\n",
       "      <td>6339</td>\n",
       "      <td>Ovulatory failure: clinical aspects.</td>\n",
       "      <td>[A E Rakoff]</td>\n",
       "      <td></td>\n",
       "      <td>1976-05-01</td>\n",
       "      <td>[]</td>\n",
       "      <td>eng</td>\n",
       "      <td>[17-Ketosteroids, Animals, Anovulation, Chorio...</td>\n",
       "      <td>[Journal Article, Review]</td>\n",
       "      <td>Fertility and sterility</td>\n",
       "      <td>27</td>\n",
       "      <td>5</td>\n",
       "    </tr>\n",
       "  </tbody>\n",
       "</table>\n",
       "</div>"
      ],
      "text/plain": [
       "     ID                                              TITLE  \\\n",
       "0   713  Plasma/blood level monitoring techniques in ps...   \n",
       "1  1316               Psychiatric myths and their victims.   \n",
       "2  4393  Psychiatric consultations with gynecologic pat...   \n",
       "3  4485  The heterogeneity of asthmatic patients--an in...   \n",
       "4  6339               Ovulatory failure: clinical aspects.   \n",
       "\n",
       "                     AUTHORS ABSTRACT       DATE KEYWORDS LANGUAGE  \\\n",
       "0  [T B Cooper, G M Simpson]          1975-10-01       []      eng   \n",
       "1                   [S Page]          1976-01-01       []      eng   \n",
       "2               [J J Schwab]          1975-01-01       []      eng   \n",
       "3    [S L Spector, R S Farr]          1976-05-01       []      eng   \n",
       "4               [A E Rakoff]          1976-05-01       []      eng   \n",
       "\n",
       "                                                MESH  \\\n",
       "0  [Enzyme Induction, Humans, Lithium, Methods, P...   \n",
       "1  [Allied Health Personnel, Hospitals, Psychiatr...   \n",
       "2  [Counseling, Female, Genital Diseases, Female,...   \n",
       "3  [Adrenal Cortex Hormones, Adrenergic beta-Anta...   \n",
       "4  [17-Ketosteroids, Animals, Anovulation, Chorio...   \n",
       "\n",
       "                                            PUB_TYPE  \\\n",
       "0                                  [Journal Article]   \n",
       "1                                  [Journal Article]   \n",
       "2                                  [Journal Article]   \n",
       "3  [Case Reports, Journal Article, Research Suppo...   \n",
       "4                          [Journal Article, Review]   \n",
       "\n",
       "                                          JOURNAL VOLUME ISSUE  \n",
       "0                     Psychopharmacology bulletin     11     4  \n",
       "1                    Dimensions in health service     53     1  \n",
       "2              International journal of fertility     20     3  \n",
       "3  The Journal of allergy and clinical immunology     57     5  \n",
       "4                         Fertility and sterility     27     5  "
      ]
     },
     "execution_count": 5,
     "metadata": {},
     "output_type": "execute_result"
    }
   ],
   "source": [
    "articles_df.head()"
   ]
  },
  {
   "cell_type": "code",
   "execution_count": 6,
   "metadata": {
    "collapsed": true
   },
   "outputs": [],
   "source": [
    "years_dict = defaultdict(int)\n",
    "for x in articles_df.DATE:\n",
    "    years_dict[x.year] += 1"
   ]
  },
  {
   "cell_type": "code",
   "execution_count": 7,
   "metadata": {
    "collapsed": true
   },
   "outputs": [],
   "source": [
    "years_range = [min(years_dict.keys()), max(years_dict.keys())]"
   ]
  },
  {
   "cell_type": "code",
   "execution_count": 8,
   "metadata": {},
   "outputs": [
    {
     "data": {
      "text/plain": [
       "[1945, 2016]"
      ]
     },
     "execution_count": 8,
     "metadata": {},
     "output_type": "execute_result"
    }
   ],
   "source": [
    "years_range"
   ]
  },
  {
   "cell_type": "code",
   "execution_count": 9,
   "metadata": {},
   "outputs": [
    {
     "data": {
      "image/png": "[encoded data removed]",
      "text/plain": [
       "<matplotlib.figure.Figure at 0x7f8dbbf7d2b0>"
      ]
     },
     "metadata": {},
     "output_type": "display_data"
    }
   ],
   "source": [
    "pd.Series(years_dict).plot();"
   ]
  },
  {
   "cell_type": "code",
   "execution_count": 10,
   "metadata": {
    "collapsed": true
   },
   "outputs": [],
   "source": [
    "abstracts_df = pd.DataFrame()\n",
    "abstracts_df['ABSTRACT'] = articles_df['ABSTRACT']\n",
    "abstracts_df['YEAR'] = articles_df.DATE.apply(lambda x: x.year)\n",
    "abstracts_df['HAS_ABSTRACT'] = abstracts_df['ABSTRACT'].apply(lambda x: bool(x))"
   ]
  },
  {
   "cell_type": "code",
   "execution_count": 11,
   "metadata": {},
   "outputs": [
    {
     "data": {
      "text/plain": [
       "False    47269\n",
       "True     25115\n",
       "Name: HAS_ABSTRACT, dtype: int64"
      ]
     },
     "execution_count": 11,
     "metadata": {},
     "output_type": "execute_result"
    }
   ],
   "source": [
    "abstracts_df.HAS_ABSTRACT.value_counts()"
   ]
  },
  {
   "cell_type": "code",
   "execution_count": 12,
   "metadata": {
    "collapsed": true,
    "scrolled": false
   },
   "outputs": [],
   "source": [
    "n_abs = abstracts_df.groupby(['YEAR', 'HAS_ABSTRACT']).count()"
   ]
  },
  {
   "cell_type": "code",
   "execution_count": 13,
   "metadata": {},
   "outputs": [
    {
     "data": {
      "text/html": [
       "<div>\n",
       "<style>\n",
       "    .dataframe thead tr:only-child th {\n",
       "        text-align: right;\n",
       "    }\n",
       "\n",
       "    .dataframe thead th {\n",
       "        text-align: left;\n",
       "    }\n",
       "\n",
       "    .dataframe tbody tr th {\n",
       "        vertical-align: top;\n",
       "    }\n",
       "</style>\n",
       "<table border=\"1\" class=\"dataframe\">\n",
       "  <thead>\n",
       "    <tr style=\"text-align: right;\">\n",
       "      <th></th>\n",
       "      <th></th>\n",
       "      <th>ABSTRACT</th>\n",
       "    </tr>\n",
       "    <tr>\n",
       "      <th>YEAR</th>\n",
       "      <th>HAS_ABSTRACT</th>\n",
       "      <th></th>\n",
       "    </tr>\n",
       "  </thead>\n",
       "  <tbody>\n",
       "    <tr>\n",
       "      <th>1945</th>\n",
       "      <th>False</th>\n",
       "      <td>83</td>\n",
       "    </tr>\n",
       "    <tr>\n",
       "      <th>1946</th>\n",
       "      <th>False</th>\n",
       "      <td>607</td>\n",
       "    </tr>\n",
       "    <tr>\n",
       "      <th rowspan=\"2\" valign=\"top\">1947</th>\n",
       "      <th>False</th>\n",
       "      <td>409</td>\n",
       "    </tr>\n",
       "    <tr>\n",
       "      <th>True</th>\n",
       "      <td>1</td>\n",
       "    </tr>\n",
       "    <tr>\n",
       "      <th>1948</th>\n",
       "      <th>False</th>\n",
       "      <td>416</td>\n",
       "    </tr>\n",
       "  </tbody>\n",
       "</table>\n",
       "</div>"
      ],
      "text/plain": [
       "                   ABSTRACT\n",
       "YEAR HAS_ABSTRACT          \n",
       "1945 False               83\n",
       "1946 False              607\n",
       "1947 False              409\n",
       "     True                 1\n",
       "1948 False              416"
      ]
     },
     "execution_count": 13,
     "metadata": {},
     "output_type": "execute_result"
    }
   ],
   "source": [
    "n_abs.head()"
   ]
  },
  {
   "cell_type": "code",
   "execution_count": 14,
   "metadata": {
    "collapsed": true
   },
   "outputs": [],
   "source": [
    "n_abs = n_abs.unstack('HAS_ABSTRACT').fillna(0).astype(int)"
   ]
  },
  {
   "cell_type": "code",
   "execution_count": 15,
   "metadata": {},
   "outputs": [
    {
     "data": {
      "text/html": [
       "<div>\n",
       "<style>\n",
       "    .dataframe thead tr:only-child th {\n",
       "        text-align: right;\n",
       "    }\n",
       "\n",
       "    .dataframe thead th {\n",
       "        text-align: left;\n",
       "    }\n",
       "\n",
       "    .dataframe tbody tr th {\n",
       "        vertical-align: top;\n",
       "    }\n",
       "</style>\n",
       "<table border=\"1\" class=\"dataframe\">\n",
       "  <thead>\n",
       "    <tr>\n",
       "      <th></th>\n",
       "      <th colspan=\"2\" halign=\"left\">ABSTRACT</th>\n",
       "    </tr>\n",
       "    <tr>\n",
       "      <th>HAS_ABSTRACT</th>\n",
       "      <th>False</th>\n",
       "      <th>True</th>\n",
       "    </tr>\n",
       "    <tr>\n",
       "      <th>YEAR</th>\n",
       "      <th></th>\n",
       "      <th></th>\n",
       "    </tr>\n",
       "  </thead>\n",
       "  <tbody>\n",
       "    <tr>\n",
       "      <th>1945</th>\n",
       "      <td>83</td>\n",
       "      <td>0</td>\n",
       "    </tr>\n",
       "    <tr>\n",
       "      <th>1946</th>\n",
       "      <td>607</td>\n",
       "      <td>0</td>\n",
       "    </tr>\n",
       "    <tr>\n",
       "      <th>1947</th>\n",
       "      <td>409</td>\n",
       "      <td>1</td>\n",
       "    </tr>\n",
       "    <tr>\n",
       "      <th>1948</th>\n",
       "      <td>416</td>\n",
       "      <td>0</td>\n",
       "    </tr>\n",
       "    <tr>\n",
       "      <th>1949</th>\n",
       "      <td>499</td>\n",
       "      <td>3</td>\n",
       "    </tr>\n",
       "  </tbody>\n",
       "</table>\n",
       "</div>"
      ],
      "text/plain": [
       "             ABSTRACT      \n",
       "HAS_ABSTRACT    False True \n",
       "YEAR                       \n",
       "1945               83     0\n",
       "1946              607     0\n",
       "1947              409     1\n",
       "1948              416     0\n",
       "1949              499     3"
      ]
     },
     "execution_count": 15,
     "metadata": {},
     "output_type": "execute_result"
    }
   ],
   "source": [
    "n_abs.head()"
   ]
  },
  {
   "cell_type": "code",
   "execution_count": 16,
   "metadata": {
    "collapsed": true
   },
   "outputs": [],
   "source": [
    "n_abs.columns = n_abs.columns.droplevel()"
   ]
  },
  {
   "cell_type": "code",
   "execution_count": 17,
   "metadata": {},
   "outputs": [
    {
     "data": {
      "text/html": [
       "<div>\n",
       "<style>\n",
       "    .dataframe thead tr:only-child th {\n",
       "        text-align: right;\n",
       "    }\n",
       "\n",
       "    .dataframe thead th {\n",
       "        text-align: left;\n",
       "    }\n",
       "\n",
       "    .dataframe tbody tr th {\n",
       "        vertical-align: top;\n",
       "    }\n",
       "</style>\n",
       "<table border=\"1\" class=\"dataframe\">\n",
       "  <thead>\n",
       "    <tr style=\"text-align: right;\">\n",
       "      <th>HAS_ABSTRACT</th>\n",
       "      <th>False</th>\n",
       "      <th>True</th>\n",
       "    </tr>\n",
       "    <tr>\n",
       "      <th>YEAR</th>\n",
       "      <th></th>\n",
       "      <th></th>\n",
       "    </tr>\n",
       "  </thead>\n",
       "  <tbody>\n",
       "    <tr>\n",
       "      <th>1945</th>\n",
       "      <td>83</td>\n",
       "      <td>0</td>\n",
       "    </tr>\n",
       "    <tr>\n",
       "      <th>1946</th>\n",
       "      <td>607</td>\n",
       "      <td>0</td>\n",
       "    </tr>\n",
       "    <tr>\n",
       "      <th>1947</th>\n",
       "      <td>409</td>\n",
       "      <td>1</td>\n",
       "    </tr>\n",
       "    <tr>\n",
       "      <th>1948</th>\n",
       "      <td>416</td>\n",
       "      <td>0</td>\n",
       "    </tr>\n",
       "    <tr>\n",
       "      <th>1949</th>\n",
       "      <td>499</td>\n",
       "      <td>3</td>\n",
       "    </tr>\n",
       "  </tbody>\n",
       "</table>\n",
       "</div>"
      ],
      "text/plain": [
       "HAS_ABSTRACT  False  True \n",
       "YEAR                      \n",
       "1945             83      0\n",
       "1946            607      0\n",
       "1947            409      1\n",
       "1948            416      0\n",
       "1949            499      3"
      ]
     },
     "execution_count": 17,
     "metadata": {},
     "output_type": "execute_result"
    }
   ],
   "source": [
    "n_abs.head()"
   ]
  },
  {
   "cell_type": "code",
   "execution_count": 18,
   "metadata": {
    "collapsed": true
   },
   "outputs": [],
   "source": [
    "n_abs['TOTAL'] = pd.Series(abstracts_df.groupby(['YEAR']).count()['ABSTRACT'])"
   ]
  },
  {
   "cell_type": "code",
   "execution_count": 19,
   "metadata": {},
   "outputs": [
    {
     "data": {
      "image/png": "[encoded data removed]",
      "text/plain": [
       "<matplotlib.figure.Figure at 0x7f8dbe0ec470>"
      ]
     },
     "metadata": {},
     "output_type": "display_data"
    }
   ],
   "source": [
    "n_abs.plot();"
   ]
  },
  {
   "cell_type": "code",
   "execution_count": 20,
   "metadata": {
    "collapsed": true
   },
   "outputs": [],
   "source": [
    "stop = stopwords.words('english') + list(punctuation)\n",
    "\n",
    "def clean(s):\n",
    "    r = s.strip().lower()\n",
    "    r = [w for w in word_tokenize(r) if w not in stop and len(w) > 2]\n",
    "    r = ' '.join(r)\n",
    "    return r"
   ]
  },
  {
   "cell_type": "code",
   "execution_count": 21,
   "metadata": {},
   "outputs": [
    {
     "name": "stdout",
     "output_type": "stream",
     "text": [
      "CPU times: user 1min 13s, sys: 272 ms, total: 1min 13s\n",
      "Wall time: 1min 13s\n"
     ]
    }
   ],
   "source": [
    "%%time\n",
    "\n",
    "all_text = ''\n",
    "for x in articles_df.TITLE:\n",
    "    all_text += clean(x) + ' '\n",
    "for x in articles_df.ABSTRACT:\n",
    "    all_text += clean(x) + ' '"
   ]
  },
  {
   "cell_type": "code",
   "execution_count": 22,
   "metadata": {
    "collapsed": true
   },
   "outputs": [],
   "source": [
    "counter = Counter(all_text.split())"
   ]
  },
  {
   "cell_type": "code",
   "execution_count": 23,
   "metadata": {},
   "outputs": [
    {
     "data": {
      "text/plain": [
       "[('psychiatry', 23371),\n",
       " ('health', 19097),\n",
       " ('psychiatric', 18242),\n",
       " ('patients', 17494),\n",
       " ('care', 16550),\n",
       " ('medical', 13791),\n",
       " ('research', 13334),\n",
       " ('mental', 12384),\n",
       " ('nursing', 11775),\n",
       " ('study', 11682),\n",
       " ('clinical', 11277),\n",
       " ('practice', 10630),\n",
       " ('treatment', 10038),\n",
       " ('psychiatrists', 9225),\n",
       " ('social', 8290),\n",
       " ('medicine', 8271),\n",
       " ('psychology', 7991),\n",
       " ('training', 7757),\n",
       " ('patient', 7398),\n",
       " ('factors', 7066)]"
      ]
     },
     "execution_count": 23,
     "metadata": {},
     "output_type": "execute_result"
    }
   ],
   "source": [
    "counter.most_common(20)"
   ]
  },
  {
   "cell_type": "code",
   "execution_count": 24,
   "metadata": {
    "collapsed": true
   },
   "outputs": [],
   "source": [
    "def join_texts(x):\n",
    "    title = clean(x.TITLE)\n",
    "    abstract = clean(x.ABSTRACT)\n",
    "    text = title + ' ' + abstract\n",
    "    return text"
   ]
  },
  {
   "cell_type": "code",
   "execution_count": 25,
   "metadata": {
    "collapsed": true
   },
   "outputs": [],
   "source": [
    "mini_df = pd.DataFrame()"
   ]
  },
  {
   "cell_type": "code",
   "execution_count": 26,
   "metadata": {},
   "outputs": [
    {
     "name": "stdout",
     "output_type": "stream",
     "text": [
      "CPU times: user 1min 29s, sys: 12 ms, total: 1min 29s\n",
      "Wall time: 1min 29s\n"
     ]
    }
   ],
   "source": [
    "%%time\n",
    "\n",
    "mini_df['TEXT'] = articles_df.apply(join_texts, axis=1)"
   ]
  },
  {
   "cell_type": "code",
   "execution_count": 27,
   "metadata": {
    "collapsed": true
   },
   "outputs": [],
   "source": [
    "mini_df['YEAR'] = articles_df.DATE.apply(lambda x: x.year)"
   ]
  },
  {
   "cell_type": "code",
   "execution_count": 28,
   "metadata": {
    "collapsed": true
   },
   "outputs": [],
   "source": [
    "mini_df['KEYWORDS'] = articles_df.KEYWORDS"
   ]
  },
  {
   "cell_type": "code",
   "execution_count": 29,
   "metadata": {
    "collapsed": true
   },
   "outputs": [],
   "source": [
    "mini_df['MESH'] = articles_df.MESH"
   ]
  },
  {
   "cell_type": "code",
   "execution_count": 30,
   "metadata": {
    "collapsed": true
   },
   "outputs": [],
   "source": [
    "text_by_year_df = mini_df.groupby('YEAR')['TEXT'].sum()"
   ]
  },
  {
   "cell_type": "code",
   "execution_count": 31,
   "metadata": {},
   "outputs": [
    {
     "data": {
      "text/plain": [
       "YEAR\n",
       "1945    available available available notes implicatio...\n",
       "1946    available available available available availa...\n",
       "1947    conception control medical profession attitude...\n",
       "1948    abbreviated form mcgill verbal situation test ...\n",
       "1949    psychology scientific research scientific inqu...\n",
       "Name: TEXT, dtype: object"
      ]
     },
     "execution_count": 31,
     "metadata": {},
     "output_type": "execute_result"
    }
   ],
   "source": [
    "text_by_year_df.head()"
   ]
  },
  {
   "cell_type": "code",
   "execution_count": 32,
   "metadata": {
    "collapsed": true
   },
   "outputs": [],
   "source": [
    "counter_by_year_sr = text_by_year_df.apply(lambda x: Counter(x.split()))"
   ]
  },
  {
   "cell_type": "code",
   "execution_count": 33,
   "metadata": {},
   "outputs": [
    {
     "name": "stdout",
     "output_type": "stream",
     "text": [
      "1945 [('psychiatric', 19), ('available', 16), ('psychiatry', 15), ('hospital', 6), ('general', 6)]\n",
      "1946 [('psychiatry', 110), ('available', 80), ('psychiatric', 78), ('psychology', 38), ('training', 32)]\n",
      "1947 [('psychiatry', 88), ('psychiatric', 60), ('available', 59), ('psychology', 29), ('treatment', 20)]\n",
      "1948 [('psychiatry', 89), ('available', 71), ('psychiatric', 34), ('psychology', 32), ('general', 18)]\n",
      "1949 [('available', 89), ('psychiatry', 86), ('psychiatric', 61), ('psychology', 43), ('mental', 25)]\n",
      "1950 [('psychiatry', 152), ('psychology', 63), ('psychiatric', 43), ('clinical', 33), ('mental', 27)]\n",
      "1951 [('psychiatry', 221), ('psychology', 97), ('psychiatric', 92), ('child', 38), ('clinical', 33)]\n",
      "1952 [('psychiatry', 187), ('psychology', 81), ('psychiatric', 64), ('clinical', 46), ('medical', 22)]\n",
      "1953 [('psychiatry', 193), ('psychology', 127), ('psychiatric', 96), ('clinical', 58), ('psychological', 44)]\n",
      "1954 [('psychiatry', 155), ('psychology', 74), ('psychiatric', 66), ('psychological', 42), ('aspects', 36)]\n",
      "1955 [('psychiatry', 195), ('psychiatric', 70), ('psychology', 65), ('clinical', 32), ('psychological', 28)]\n",
      "1956 [('psychiatry', 198), ('psychiatric', 51), ('psychology', 44), ('psychological', 24), ('clinical', 23)]\n",
      "1957 [('psychiatry', 204), ('psychiatric', 60), ('psychology', 27), ('medical', 25), ('psychiatrist', 24)]\n",
      "1958 [('psychiatry', 179), ('psychiatric', 70), ('psychology', 51), ('psychiatrist', 24), ('clinical', 24)]\n",
      "1959 [('psychiatry', 182), ('psychiatric', 65), ('medical', 27), ('medicine', 26), ('psychiatrist', 25)]\n",
      "1960 [('psychiatry', 216), ('psychiatric', 68), ('problems', 24), ('general', 22), ('medicine', 22)]\n",
      "1961 [('psychiatry', 217), ('psychiatric', 78), ('research', 29), ('psychology', 27), ('medical', 26)]\n",
      "1962 [('psychiatry', 242), ('psychiatric', 84), ('medicine', 29), ('psychology', 28), ('medical', 25)]\n",
      "1963 [('psychiatry', 234), ('psychiatric', 78), ('medical', 48), ('medicine', 39), ('psychiatrist', 37)]\n",
      "1964 [('psychiatry', 267), ('psychiatric', 129), ('medical', 66), ('psychology', 54), ('medicine', 47)]\n",
      "1965 [('psychiatry', 228), ('psychiatric', 123), ('psychological', 81), ('psychology', 64), ('medical', 60)]\n",
      "1966 [('psychiatry', 115), ('psychiatric', 106), ('psychology', 58), ('medical', 47), ('patients', 47)]\n",
      "1967 [('psychiatry', 155), ('psychiatric', 85), ('psychology', 61), ('psychological', 55), ('medicine', 49)]\n",
      "1968 [('psychiatry', 163), ('psychiatric', 112), ('medical', 69), ('psychological', 59), ('psychology', 56)]\n",
      "1969 [('psychiatry', 171), ('psychiatric', 98), ('medical', 59), ('psychology', 54), ('medicine', 50)]\n",
      "1970 [('psychiatry', 132), ('psychiatric', 101), ('medical', 76), ('psychology', 66), ('medicine', 59)]\n",
      "1971 [('psychiatry', 145), ('psychiatric', 89), ('psychology', 68), ('medical', 65), ('medicine', 47)]\n",
      "1972 [('psychiatry', 183), ('psychiatric', 106), ('medical', 68), ('psychology', 58), ('nursing', 55)]\n",
      "1973 [('psychiatry', 160), ('psychiatric', 126), ('medical', 68), ('health', 52), ('psychology', 49)]\n",
      "1974 [('psychiatry', 149), ('psychiatric', 114), ('letter', 70), ('medical', 64), ('mental', 55)]\n",
      "1975 [('psychiatry', 213), ('psychiatric', 184), ('medical', 130), ('patients', 121), ('patient', 113)]\n",
      "1976 [('psychiatry', 218), ('psychiatric', 199), ('patients', 195), ('health', 161), ('medical', 149)]\n",
      "1977 [('psychiatry', 254), ('psychiatric', 215), ('patients', 175), ('medical', 169), ('psychological', 118)]\n",
      "1978 [('psychiatric', 224), ('psychiatry', 218), ('medical', 140), ('health', 138), ('patients', 127)]\n",
      "1979 [('psychiatry', 303), ('psychiatric', 236), ('medical', 206), ('patients', 151), ('psychiatrists', 127)]\n",
      "1980 [('psychiatry', 302), ('psychiatric', 193), ('medical', 163), ('patients', 98), ('health', 95)]\n",
      "1981 [('psychiatry', 255), ('psychiatric', 235), ('medical', 165), ('patients', 136), ('psychiatrists', 133)]\n",
      "1982 [('psychiatry', 254), ('psychiatric', 228), ('medical', 192), ('health', 128), ('patients', 118)]\n",
      "1983 [('psychiatry', 270), ('psychiatric', 270), ('medical', 173), ('patients', 121), ('clinical', 115)]\n",
      "1984 [('psychiatry', 249), ('psychiatric', 219), ('medical', 173), ('care', 124), ('health', 123)]\n",
      "1985 [('psychiatric', 234), ('psychiatry', 210), ('patients', 132), ('medical', 130), ('health', 128)]\n",
      "1986 [('psychiatry', 267), ('psychiatric', 222), ('medical', 154), ('psychiatrists', 135), ('medicine', 127)]\n",
      "1987 [('psychiatry', 242), ('psychiatric', 236), ('medical', 165), ('health', 152), ('care', 148)]\n",
      "1988 [('psychiatry', 202), ('psychiatric', 199), ('medical', 164), ('psychiatrists', 131), ('patients', 131)]\n",
      "1989 [('psychiatry', 232), ('psychiatric', 221), ('patients', 178), ('nursing', 171), ('health', 164)]\n",
      "1990 [('psychiatry', 247), ('psychiatric', 215), ('patients', 192), ('medical', 187), ('nursing', 186)]\n",
      "1991 [('psychiatry', 315), ('psychiatric', 309), ('nursing', 230), ('health', 212), ('medical', 207)]\n",
      "1992 [('psychiatry', 288), ('psychiatric', 256), ('patients', 197), ('medical', 182), ('health', 179)]\n",
      "1993 [('psychiatry', 297), ('psychiatric', 231), ('medical', 230), ('health', 223), ('research', 223)]\n",
      "1994 [('psychiatry', 330), ('psychiatric', 306), ('medical', 294), ('health', 288), ('care', 279)]\n",
      "1995 [('health', 350), ('psychiatry', 319), ('care', 309), ('patients', 305), ('medical', 304)]\n",
      "1996 [('care', 434), ('psychiatry', 387), ('psychiatric', 383), ('nursing', 319), ('health', 297)]\n",
      "1997 [('nursing', 447), ('care', 434), ('health', 380), ('psychiatric', 343), ('patients', 331)]\n",
      "1998 [('care', 445), ('health', 433), ('nursing', 380), ('psychiatric', 355), ('practice', 305)]\n",
      "1999 [('care', 517), ('health', 498), ('patients', 446), ('psychiatric', 438), ('nursing', 410)]\n",
      "2000 [('care', 504), ('health', 503), ('nursing', 431), ('psychiatry', 426), ('patients', 409)]\n",
      "2001 [('health', 580), ('care', 569), ('research', 427), ('patients', 399), ('psychiatry', 392)]\n",
      "2002 [('health', 558), ('care', 488), ('research', 431), ('patients', 420), ('psychiatry', 378)]\n",
      "2003 [('patients', 652), ('care', 579), ('health', 548), ('research', 510), ('nursing', 467)]\n",
      "2004 [('health', 759), ('patients', 717), ('nursing', 668), ('care', 662), ('psychiatry', 553)]\n",
      "2005 [('patients', 884), ('health', 853), ('care', 733), ('nursing', 731), ('study', 584)]\n",
      "2006 [('health', 1125), ('care', 959), ('patients', 941), ('study', 851), ('psychiatry', 831)]\n",
      "2007 [('health', 1185), ('patients', 1010), ('care', 949), ('study', 836), ('research', 760)]\n",
      "2008 [('health', 954), ('patients', 869), ('study', 783), ('care', 776), ('psychiatry', 766)]\n",
      "2009 [('patients', 946), ('health', 899), ('care', 768), ('psychiatry', 751), ('research', 681)]\n",
      "2010 [('health', 1081), ('patients', 813), ('care', 755), ('psychiatry', 705), ('psychiatric', 656)]\n",
      "2011 [('health', 747), ('psychiatry', 732), ('care', 650), ('patients', 616), ('psychiatric', 590)]\n",
      "2012 [('health', 857), ('psychiatry', 846), ('patients', 825), ('care', 659), ('mental', 654)]\n",
      "2013 [('psychiatry', 1005), ('health', 907), ('patients', 851), ('care', 668), ('psychiatric', 667)]\n",
      "2014 [('health', 849), ('psychiatry', 780), ('patients', 762), ('study', 637), ('care', 628)]\n",
      "2015 [('health', 941), ('psychiatry', 830), ('care', 694), ('mental', 681), ('patients', 660)]\n",
      "2016 [('psychiatry', 208), ('health', 200), ('patients', 178), ('mental', 155), ('research', 130)]\n"
     ]
    }
   ],
   "source": [
    "for year, row in counter_by_year_sr.iteritems():\n",
    "    print(year, row.most_common(5))"
   ]
  },
  {
   "cell_type": "code",
   "execution_count": 34,
   "metadata": {
    "collapsed": true
   },
   "outputs": [],
   "source": [
    "def words_df(*ws, prop=False):\n",
    "    return pd.DataFrame(\n",
    "        [[counter_by_year_sr[y][w] / (sum(counter_by_year_sr[y].values()) if prop else 1) for w in ws] for y in counter_by_year_sr.index],\n",
    "        index=counter_by_year_sr.index,\n",
    "        columns=ws,\n",
    "    )"
   ]
  },
  {
   "cell_type": "code",
   "execution_count": 90,
   "metadata": {},
   "outputs": [
    {
     "data": {
      "image/png": "[encoded data removed]",
      "text/plain": [
       "<matplotlib.figure.Figure at 0x7f8d8fe44240>"
      ]
     },
     "metadata": {},
     "output_type": "display_data"
    }
   ],
   "source": [
    "words_df('needs', 'need', 'human').plot();"
   ]
  },
  {
   "cell_type": "code",
   "execution_count": 86,
   "metadata": {},
   "outputs": [
    {
     "data": {
      "image/png": "[encoded data removed]",
      "text/plain": [
       "<matplotlib.figure.Figure at 0x7f8d9c1dde80>"
      ]
     },
     "metadata": {},
     "output_type": "display_data"
    }
   ],
   "source": [
    "words_df('child', 'clinical', 'hospital').plot();"
   ]
  },
  {
   "cell_type": "code",
   "execution_count": 35,
   "metadata": {},
   "outputs": [
    {
     "data": {
      "image/png": "[encoded data removed]",
      "text/plain": [
       "<matplotlib.figure.Figure at 0x7f8db7a09f98>"
      ]
     },
     "metadata": {},
     "output_type": "display_data"
    }
   ],
   "source": [
    "words_df('psychiatry', 'psychology').plot();"
   ]
  },
  {
   "cell_type": "code",
   "execution_count": 36,
   "metadata": {},
   "outputs": [
    {
     "data": {
      "image/png": "[encoded data removed]",
      "text/plain": [
       "<matplotlib.figure.Figure at 0x7f8db7a3eb38>"
      ]
     },
     "metadata": {},
     "output_type": "display_data"
    }
   ],
   "source": [
    "words_df('psychiatry', 'psychology', prop=True).plot();"
   ]
  },
  {
   "cell_type": "code",
   "execution_count": 37,
   "metadata": {},
   "outputs": [
    {
     "data": {
      "image/png": "[encoded data removed]",
      "text/plain": [
       "<matplotlib.figure.Figure at 0x7f8db7805400>"
      ]
     },
     "metadata": {},
     "output_type": "display_data"
    }
   ],
   "source": [
    "words_df('health', 'care', 'nursing').plot();"
   ]
  },
  {
   "cell_type": "code",
   "execution_count": 38,
   "metadata": {},
   "outputs": [
    {
     "data": {
      "image/png": "[encoded data removed]",
      "text/plain": [
       "<matplotlib.figure.Figure at 0x7f8db7b4acc0>"
      ]
     },
     "metadata": {},
     "output_type": "display_data"
    }
   ],
   "source": [
    "words_df('health', 'care', 'nursing', prop=True).plot();"
   ]
  },
  {
   "cell_type": "code",
   "execution_count": 39,
   "metadata": {},
   "outputs": [
    {
     "data": {
      "image/png": "[encoded data removed]",
      "text/plain": [
       "<matplotlib.figure.Figure at 0x7f8db7639f28>"
      ]
     },
     "metadata": {},
     "output_type": "display_data"
    }
   ],
   "source": [
    "words_df('hiv', 'aids').plot();"
   ]
  },
  {
   "cell_type": "code",
   "execution_count": 40,
   "metadata": {},
   "outputs": [
    {
     "data": {
      "image/png": "[encoded data removed]",
      "text/plain": [
       "<matplotlib.figure.Figure at 0x7f8db764e898>"
      ]
     },
     "metadata": {},
     "output_type": "display_data"
    }
   ],
   "source": [
    "words_df('hiv', 'aids', prop=True).plot();"
   ]
  },
  {
   "cell_type": "code",
   "execution_count": 41,
   "metadata": {},
   "outputs": [
    {
     "data": {
      "text/plain": [
       "YEAR\n",
       "1945    available available available notes implicatio...\n",
       "1946    available available available available availa...\n",
       "1947    conception control medical profession attitude...\n",
       "1948    abbreviated form mcgill verbal situation test ...\n",
       "1949    psychology scientific research scientific inqu...\n",
       "1950    new aspects criminological psychology graduate...\n",
       "1951    child psychology social psychology group proce...\n",
       "1952    restatement combat psychiatry relation civilia...\n",
       "1953    transportation military psychiatric patients i...\n",
       "1954    teaching psychology fundamental science medici...\n",
       "1955    association maternal fetal factors development...\n",
       "1956    galla oroma east africa breast feeding technic...\n",
       "1957    psychology profession modern world comment wor...\n",
       "1958    size family adjustment children soviet psychia...\n",
       "1959    social psychiatry modifications oropharyngeal ...\n",
       "1960    clitoridectomy disastrous downfall isaac baker...\n",
       "1961    psycho-pathology mind economic planning progno...\n",
       "1962    practice contraception attitudes towards famil...\n",
       "1963    child psychiatry judgmental versus mathematica...\n",
       "1964    psoriasis statistical clinical laboratory inve...\n",
       "1965    purposes medicine psychiatry tropics general-p...\n",
       "1966    chorea gravidarum london skid row psychiatric ...\n",
       "1967    medical science medical care public policy res...\n",
       "1968    let patient die psychiatric care adolescent ae...\n",
       "1969    teaching psychiatry signed-rank wilcoxon test ...\n",
       "1970    suggestions adding family planning curriculums...\n",
       "1971    science non-science psychiatry science non-sci...\n",
       "1972    misuses psychiatry abortion changing attitudes...\n",
       "1973    another dark age psychiatry misuse psychiatry ...\n",
       "1974    editorial psychiatry community medicine london...\n",
       "                              ...                        \n",
       "1987    heart travels later social psychiatry switzerl...\n",
       "1988    use didactic aids post-graduate education psyc...\n",
       "1989    health teachings maimonides medical religious ...\n",
       "1990    psychological burden imposed caring suicidal p...\n",
       "1991    natural supernatural alternative medicine alte...\n",
       "1992    nursing philosophy starting point change activ...\n",
       "1993    medicine politics paper explores relationship ...\n",
       "1994    perspectives interdisciplinary research psychi...\n",
       "1995    epidemiology scientific thought timing repair ...\n",
       "1996    myths rote procedures problem reflections mexi...\n",
       "1997    effects growing medicalization nursing records...\n",
       "1998    teaching 1988 course 1998 challenge decade nur...\n",
       "1999    triumph pyrrhic victory inclusion culture dsm-...\n",
       "2000    nursing 'peace medical 'war model patient-cent...\n",
       "2001    concept nursing systematic analysis nursing fi...\n",
       "2002    philosophical perspectives home care ontology ...\n",
       "2003    searching alternative phenotypes psychiatric g...\n",
       "2004    clarifying relationship unexplained chronic fa...\n",
       "2005    faculty ways knowing crux nursing curricula au...\n",
       "2006    psychosocial impacts camping experience childr...\n",
       "2007    psychology film perceiving beyond cut first-or...\n",
       "2008    current issues undergraduate psychiatry educat...\n",
       "2009    heteroscedastic one-factor models marginal max...\n",
       "2010    transcript actual life headache novels jane au...\n",
       "2011    powerful choices peer support individualized m...\n",
       "2012    memory life work helmut rennert 1920-1994 mark...\n",
       "2013    qualitative study faith leaders perceptions he...\n",
       "2014    philosophy medicine healthcare insights italia...\n",
       "2015    young women beliefs regarding human papillomav...\n",
       "2016    humphry fortescue osmond 1917-2004 radical con...\n",
       "Name: TEXT, Length: 72, dtype: object"
      ]
     },
     "execution_count": 41,
     "metadata": {},
     "output_type": "execute_result"
    }
   ],
   "source": [
    "text_by_year_df"
   ]
  },
  {
   "cell_type": "code",
   "execution_count": 42,
   "metadata": {
    "collapsed": true
   },
   "outputs": [],
   "source": [
    "corpus = [TaggedDocument(d.split(), [y]) for y, d in text_by_year_df.iteritems()]"
   ]
  },
  {
   "cell_type": "code",
   "execution_count": 84,
   "metadata": {},
   "outputs": [
    {
     "name": "stdout",
     "output_type": "stream",
     "text": [
      "1945\n",
      "1946\n",
      "1947\n",
      "1948\n",
      "1949\n",
      "1950\n",
      "1951\n",
      "1952\n",
      "1953\n",
      "1954\n",
      "1955\n",
      "1956\n",
      "1957\n",
      "1958\n",
      "1959\n",
      "1960\n",
      "1961\n",
      "1962\n",
      "1963\n",
      "1964\n",
      "1965\n",
      "1966\n",
      "1967\n",
      "1968\n",
      "1969\n",
      "1970\n",
      "1971\n",
      "1972\n",
      "1973\n",
      "1974\n",
      "1975\n",
      "1976\n",
      "1977\n",
      "1978\n",
      "1979\n",
      "1980\n",
      "1981\n",
      "1982\n",
      "1983\n",
      "1984\n",
      "1985\n",
      "1986\n",
      "1987\n",
      "1988\n",
      "1989\n",
      "1990\n",
      "1991\n",
      "1992\n",
      "1993\n",
      "1994\n",
      "1995\n",
      "1996\n",
      "1997\n",
      "1998\n",
      "1999\n",
      "2000\n",
      "2001\n",
      "2002\n",
      "2003\n",
      "2004\n",
      "2005\n",
      "2006\n",
      "2007\n",
      "2008\n",
      "2009\n",
      "2010\n",
      "2011\n",
      "2012\n",
      "2013\n",
      "2014\n",
      "2015\n",
      "2016\n"
     ]
    }
   ],
   "source": [
    "for y, d in text_by_year_df.iteritems():\n",
    "    print(y)"
   ]
  },
  {
   "cell_type": "code",
   "execution_count": 43,
   "metadata": {
    "collapsed": true
   },
   "outputs": [],
   "source": [
    "docs = [[word for word in document.split() if counter[word] > 1] for document in text_by_year_df]"
   ]
  },
  {
   "cell_type": "code",
   "execution_count": 44,
   "metadata": {
    "collapsed": true
   },
   "outputs": [],
   "source": [
    "dictionary = Dictionary(docs)"
   ]
  },
  {
   "cell_type": "code",
   "execution_count": 45,
   "metadata": {},
   "outputs": [
    {
     "name": "stdout",
     "output_type": "stream",
     "text": [
      "Dictionary(45502 unique tokens: ['liberty', 'dissident', 'conspicuous', \"'enriched\", 'nonwork-related']...)\n"
     ]
    }
   ],
   "source": [
    "print(dictionary)"
   ]
  },
  {
   "cell_type": "code",
   "execution_count": 78,
   "metadata": {},
   "outputs": [
    {
     "name": "stdout",
     "output_type": "stream",
     "text": [
      "CPU times: user 1min 50s, sys: 316 ms, total: 1min 51s\n",
      "Wall time: 31.8 s\n"
     ]
    }
   ],
   "source": [
    "%%time\n",
    "\n",
    "model = Doc2Vec(corpus, size=100, window=8, min_count=5, workers=4)\n",
    "for epoch in range(10):\n",
    "    model.train(corpus, total_words=45502, epochs=model.iter)"
   ]
  },
  {
   "cell_type": "code",
   "execution_count": 47,
   "metadata": {},
   "outputs": [
    {
     "data": {
      "text/plain": [
       "[('experimenter', 0.8986614942550659),\n",
       " ('applications', 0.8970330357551575),\n",
       " ('triggered', 0.8966612219810486),\n",
       " ('tool', 0.8926774859428406),\n",
       " ('newer', 0.8918147087097168),\n",
       " ('cns', 0.8841125965118408),\n",
       " ('experts', 0.8825504779815674),\n",
       " ('relied', 0.8823146224021912),\n",
       " ('etiopathogenesis', 0.881948709487915),\n",
       " ('round', 0.8818533420562744)]"
      ]
     },
     "execution_count": 47,
     "metadata": {},
     "output_type": "execute_result"
    }
   ],
   "source": [
    "model.wv.most_similar('aids')"
   ]
  },
  {
   "cell_type": "code",
   "execution_count": 69,
   "metadata": {},
   "outputs": [
    {
     "data": {
      "text/plain": [
       "[('tool', 0.9200758934020996),\n",
       " ('habilitation', 0.8953475952148438),\n",
       " ('applications', 0.8920917510986328),\n",
       " ('experts', 0.8717107772827148),\n",
       " ('caution', 0.8695406913757324),\n",
       " ('operational', 0.8689188957214355),\n",
       " ('facilitation', 0.86811363697052),\n",
       " ('aid', 0.8644483089447021),\n",
       " ('laboratory', 0.8601976633071899),\n",
       " ('adventure', 0.8574331998825073)]"
      ]
     },
     "execution_count": 69,
     "metadata": {},
     "output_type": "execute_result"
    }
   ],
   "source": [
    "model.wv.most_similar('aids')"
   ]
  },
  {
   "cell_type": "code",
   "execution_count": 48,
   "metadata": {},
   "outputs": [
    {
     "data": {
      "text/plain": [
       "[('plasma', 0.9923834800720215),\n",
       " ('p=0.03', 0.9907107949256897),\n",
       " ('sal', 0.9906556606292725),\n",
       " ('bmd', 0.9891386032104492),\n",
       " ('soc', 0.9873744249343872),\n",
       " ('lgmd', 0.9869552850723267),\n",
       " ('crp', 0.9868426322937012),\n",
       " ('hepatitis', 0.9855906963348389),\n",
       " ('inversely', 0.9855843782424927),\n",
       " ('il-6', 0.9854450225830078)]"
      ]
     },
     "execution_count": 48,
     "metadata": {},
     "output_type": "execute_result"
    }
   ],
   "source": [
    "model.wv.most_similar('hiv')"
   ]
  },
  {
   "cell_type": "code",
   "execution_count": 70,
   "metadata": {},
   "outputs": [
    {
     "data": {
      "text/plain": [
       "[('stressors', 0.9951415061950684),\n",
       " ('sal', 0.9929070472717285),\n",
       " ('lbp', 0.9904746413230896),\n",
       " ('inversely', 0.9877574443817139),\n",
       " ('hpv', 0.9876781105995178),\n",
       " ('pain-related', 0.987163245677948),\n",
       " ('il-8', 0.9862829446792603),\n",
       " ('self-esteem', 0.9844965934753418),\n",
       " ('latitude', 0.9842010736465454),\n",
       " ('correlate', 0.9839476346969604)]"
      ]
     },
     "execution_count": 70,
     "metadata": {},
     "output_type": "execute_result"
    }
   ],
   "source": [
    "model.wv.most_similar('hiv')"
   ]
  },
  {
   "cell_type": "code",
   "execution_count": 71,
   "metadata": {},
   "outputs": [
    {
     "data": {
      "text/plain": [
       "[('friendship', 0.6751246452331543),\n",
       " ('straw', 0.6316784024238586),\n",
       " ('subconscious', 0.6273894309997559),\n",
       " ('exemplifies', 0.6125169992446899),\n",
       " ('mentality', 0.6071226000785828),\n",
       " ('schulz', 0.5913663506507874),\n",
       " ('berkeley', 0.5904630422592163),\n",
       " ('bruno', 0.5899583101272583),\n",
       " ('psychedelics', 0.5875880718231201),\n",
       " ('geology', 0.5845799446105957)]"
      ]
     },
     "execution_count": 71,
     "metadata": {},
     "output_type": "execute_result"
    }
   ],
   "source": [
    "model.wv.most_similar('psychology')"
   ]
  },
  {
   "cell_type": "code",
   "execution_count": 72,
   "metadata": {},
   "outputs": [
    {
     "data": {
      "text/plain": [
       "[('polyclinic', 0.701877772808075),\n",
       " ('revue', 0.6521822214126587),\n",
       " ('extracts', 0.6475133299827576),\n",
       " ('neurology', 0.6122575998306274),\n",
       " ('bulgaria', 0.611499547958374),\n",
       " ('censorship', 0.5965133905410767),\n",
       " ('neuropsychiatry', 0.5922375917434692),\n",
       " ('oslo', 0.5905669331550598),\n",
       " ('prospects', 0.5891656875610352),\n",
       " ('oslerian', 0.5857377648353577)]"
      ]
     },
     "execution_count": 72,
     "metadata": {},
     "output_type": "execute_result"
    }
   ],
   "source": [
    "model.wv.most_similar('psychiatry')"
   ]
  },
  {
   "cell_type": "code",
   "execution_count": 73,
   "metadata": {},
   "outputs": [
    {
     "data": {
      "text/plain": [
       "0.61225759636232124"
      ]
     },
     "execution_count": 73,
     "metadata": {},
     "output_type": "execute_result"
    }
   ],
   "source": [
    "model.wv.similarity('psychiatry', 'neurology')"
   ]
  },
  {
   "cell_type": "code",
   "execution_count": 85,
   "metadata": {},
   "outputs": [
    {
     "data": {
      "text/plain": [
       "[(1997, 0.9795751571655273),\n",
       " (1981, 0.9794868230819702),\n",
       " (2013, 0.973941445350647),\n",
       " (2002, 0.9687871932983398),\n",
       " (1996, 0.9678640365600586),\n",
       " (2014, 0.9675271511077881),\n",
       " (2000, 0.9668636322021484),\n",
       " (1998, 0.9655039310455322),\n",
       " (2010, 0.9627140760421753),\n",
       " (1987, 0.9595898985862732),\n",
       " (1995, 0.958412766456604),\n",
       " (2005, 0.9576836824417114),\n",
       " (1988, 0.9568926095962524),\n",
       " (1999, 0.956405758857727),\n",
       " (2007, 0.956404447555542),\n",
       " (1983, 0.9559649229049683),\n",
       " (1993, 0.9549148678779602),\n",
       " (1992, 0.95469731092453),\n",
       " (2004, 0.9546909332275391),\n",
       " (1985, 0.9542409181594849),\n",
       " (1986, 0.9539651274681091),\n",
       " (1991, 0.9530795812606812),\n",
       " (1984, 0.9528173804283142),\n",
       " (2003, 0.9523483514785767),\n",
       " (1982, 0.9522498846054077),\n",
       " (1994, 0.9521410465240479),\n",
       " (2012, 0.9504722356796265),\n",
       " (2015, 0.9495976567268372),\n",
       " (2006, 0.947373628616333),\n",
       " (1990, 0.9468055963516235),\n",
       " (2001, 0.9466189742088318),\n",
       " (1980, 0.9419625997543335),\n",
       " (1989, 0.9237038493156433),\n",
       " (2008, 0.9152470827102661),\n",
       " (2009, 0.9069020748138428),\n",
       " (2011, 0.897824764251709),\n",
       " (1979, 0.8795628547668457),\n",
       " (1978, 0.8612270355224609),\n",
       " (1977, 0.8284245729446411),\n",
       " (1976, 0.825494110584259),\n",
       " (1975, 0.8064342141151428),\n",
       " (1959, 0.7690752744674683),\n",
       " (1973, 0.7657092809677124),\n",
       " (1958, 0.7355857491493225),\n",
       " (1949, 0.7132596373558044),\n",
       " (1974, 0.7017348408699036),\n",
       " (1972, 0.6868951916694641),\n",
       " (1961, 0.6793342232704163),\n",
       " (1947, 0.6522655487060547),\n",
       " (1948, 0.6507883071899414),\n",
       " (1968, 0.6489135026931763),\n",
       " (1962, 0.6310626864433289),\n",
       " (1960, 0.629753053188324),\n",
       " (1966, 0.6262953281402588),\n",
       " (1952, 0.6255102157592773),\n",
       " (1970, 0.6219263672828674),\n",
       " (1957, 0.6161308884620667),\n",
       " (1955, 0.6010468006134033),\n",
       " (1971, 0.5860553979873657),\n",
       " (1963, 0.580767810344696),\n",
       " (1967, 0.5770400762557983),\n",
       " (1965, 0.5649288892745972),\n",
       " (1969, 0.5648072957992554),\n",
       " (1950, 0.5285881757736206),\n",
       " (1945, 0.5159316658973694),\n",
       " (1951, 0.513774037361145),\n",
       " (1956, 0.5119003057479858),\n",
       " (1953, 0.5084542036056519),\n",
       " (1954, 0.5063825845718384),\n",
       " (1964, 0.4869735836982727),\n",
       " (1946, 0.4530552625656128)]"
      ]
     },
     "execution_count": 85,
     "metadata": {},
     "output_type": "execute_result"
    }
   ],
   "source": [
    "model.docvecs.most_similar(2016, topn=71)"
   ]
  },
  {
   "cell_type": "code",
   "execution_count": null,
   "metadata": {
    "collapsed": true
   },
   "outputs": [],
   "source": []
  }
 ],
 "metadata": {
  "kernelspec": {
   "display_name": "Python 3",
   "language": "python",
   "name": "python3"
  },
  "language_info": {
   "codemirror_mode": {
    "name": "ipython",
    "version": 3
   },
   "file_extension": ".py",
   "mimetype": "text/x-python",
   "name": "python",
   "nbconvert_exporter": "python",
   "pygments_lexer": "ipython3",
   "version": "3.5.2"
  }
 },
 "nbformat": 4,
 "nbformat_minor": 2
}
