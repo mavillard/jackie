{
 "cells": [
  {
   "cell_type": "code",
   "execution_count": 1,
   "metadata": {
    "collapsed": true
   },
   "outputs": [],
   "source": [
    "import pickle\n",
    "import os\n",
    "from xml.etree import ElementTree as ET\n",
    "\n",
    "import pandas as pd"
   ]
  },
  {
   "cell_type": "code",
   "execution_count": 2,
   "metadata": {
    "collapsed": true
   },
   "outputs": [],
   "source": [
    "mesh_tree_df = pd.read_csv('data/mesh/mtrees2018.bin', sep=';', header=None)"
   ]
  },
  {
   "cell_type": "code",
   "execution_count": 3,
   "metadata": {},
   "outputs": [
    {
     "data": {
      "text/plain": [
       "(58744, 2)"
      ]
     },
     "execution_count": 3,
     "metadata": {},
     "output_type": "execute_result"
    }
   ],
   "source": [
    "mesh_tree_df.shape"
   ]
  },
  {
   "cell_type": "code",
   "execution_count": 4,
   "metadata": {},
   "outputs": [
    {
     "data": {
      "text/html": [
       "<div>\n",
       "<style>\n",
       "    .dataframe thead tr:only-child th {\n",
       "        text-align: right;\n",
       "    }\n",
       "\n",
       "    .dataframe thead th {\n",
       "        text-align: left;\n",
       "    }\n",
       "\n",
       "    .dataframe tbody tr th {\n",
       "        vertical-align: top;\n",
       "    }\n",
       "</style>\n",
       "<table border=\"1\" class=\"dataframe\">\n",
       "  <thead>\n",
       "    <tr style=\"text-align: right;\">\n",
       "      <th></th>\n",
       "      <th>0</th>\n",
       "      <th>1</th>\n",
       "    </tr>\n",
       "  </thead>\n",
       "  <tbody>\n",
       "    <tr>\n",
       "      <th>0</th>\n",
       "      <td>Body Regions</td>\n",
       "      <td>A01</td>\n",
       "    </tr>\n",
       "    <tr>\n",
       "      <th>1</th>\n",
       "      <td>Anatomic Landmarks</td>\n",
       "      <td>A01.111</td>\n",
       "    </tr>\n",
       "    <tr>\n",
       "      <th>2</th>\n",
       "      <td>Breast</td>\n",
       "      <td>A01.236</td>\n",
       "    </tr>\n",
       "    <tr>\n",
       "      <th>3</th>\n",
       "      <td>Mammary Glands, Human</td>\n",
       "      <td>A01.236.249</td>\n",
       "    </tr>\n",
       "    <tr>\n",
       "      <th>4</th>\n",
       "      <td>Nipples</td>\n",
       "      <td>A01.236.500</td>\n",
       "    </tr>\n",
       "  </tbody>\n",
       "</table>\n",
       "</div>"
      ],
      "text/plain": [
       "                       0            1\n",
       "0           Body Regions          A01\n",
       "1     Anatomic Landmarks      A01.111\n",
       "2                 Breast      A01.236\n",
       "3  Mammary Glands, Human  A01.236.249\n",
       "4                Nipples  A01.236.500"
      ]
     },
     "execution_count": 4,
     "metadata": {},
     "output_type": "execute_result"
    }
   ],
   "source": [
    "mesh_tree_df.head()"
   ]
  },
  {
   "cell_type": "code",
   "execution_count": 5,
   "metadata": {
    "collapsed": true
   },
   "outputs": [],
   "source": [
    "mesh_tree_sr = pd.Series(mesh_tree_df[1].values, index=mesh_tree_df[0].values)"
   ]
  },
  {
   "cell_type": "code",
   "execution_count": 6,
   "metadata": {},
   "outputs": [
    {
     "data": {
      "text/plain": [
       "Body Regions                     A01\n",
       "Anatomic Landmarks           A01.111\n",
       "Breast                       A01.236\n",
       "Mammary Glands, Human    A01.236.249\n",
       "Nipples                  A01.236.500\n",
       "dtype: object"
      ]
     },
     "execution_count": 6,
     "metadata": {},
     "output_type": "execute_result"
    }
   ],
   "source": [
    "mesh_tree_sr.head()"
   ]
  },
  {
   "cell_type": "markdown",
   "metadata": {},
   "source": [
    "MeSH (https://meshb.nlm.nih.gov/)\n",
    "* \"psychiatry\" or \"psychology\"\n",
    "    * Psychiatry and Psychology [F]\n",
    "* \"psychology\"\n",
    "    * Symbolism [K01.400.899; K01.752.798]\n",
    "    * Religion and Psychology [F02.880; K01.844.664]\n",
    "    * Psychology, Medical [F04.096.628.808; H02.720]\n",
    "    * Behavioral Medicine [F04.096.080; H02.403.090]\n",
    "    * Biofeedback, Psychology [E02.190.525.123; F02.830.131; F04.754.137.301; F04.754.308.500]\n",
    "    * Existentialism [F02.739.418; K01.752.304]\n",
    "    * Ergonomics [F02.784.412; J01.293.556]\n",
    "    * Neuropsychology [F04.096.795.600; H01.158.782.795.110]\n",
    "    * Psychophysiology [E02.190.525.812; F02.830; F04.096.795; H01.158.782.795]\n",
    "    * Parapsychology [F02.550; F04.096.462; H01.770.644.364]\n",
    "    * Signal Detection, Psychological [E01.370.685.814; E05.796.908; F02.463.593.257.800; F02.463.593.710.725; F04.096.753.814; F04.669.908]\n",
    "* \"psychiatry\"\n",
    "    * Preventive Psychiatry [F04.096.544.215.508; H02.403.690.150.580; H02.403.720.750.550]\n",
    "    * Diagnosis, Dual (Psychiatry) [E01.190]\n",
    "    * Biological Psychiatry [F04.096.544.090; H02.403.690.100]\n",
    "    * Child Psychiatry [F04.096.544.193; H02.403.690.130]\n",
    "    * Neuropsychiatry [F04.096.544.504; H02.403.690.754]\n",
    "    * Geriatric Psychiatry [F04.096.544.380; H02.403.690.260]\n",
    "    * Military Psychiatry [F04.096.544.480; H02.403.690.508]\n",
    "    * Psychiatry [F04.096.544; H02.403.690]\n",
    "    * Psychiatry in Literature [K01.517.584.500]\n",
    "    * Addiction Medicine [H02.403.007]\n",
    "    * Adolescent Psychiatry [F04.096.544.065; H02.403.690.080]\n",
    "    * Forensic Psychiatry [F04.096.544.335; H02.403.690.208; I01.198.780.937.469; I01.880.604.583.310; N03.706.535.351]\n",
    "    * Community Psychiatry [F04.096.544.215; H02.403.690.150]\n",
    "* \"philosophy\"\n",
    "    * Philosophy [K01.752]\n",
    "* \"neuroscience\"\n",
    "    * Cognitive Neuroscience [F04.096.628.255.500; H01.158.610.030]\n",
    "    * Neurosciences [H01.158.610]\n",
    "    * Neuroscience Nursing [H02.478.676.542; N02.421.533.505]"
   ]
  },
  {
   "cell_type": "code",
   "execution_count": 7,
   "metadata": {},
   "outputs": [],
   "source": [
    "my_mesh_headings = [\n",
    "    'E01.190',\n",
    "    'E01.370.685.814',\n",
    "    'E02.190.525.123',\n",
    "    'E02.190.525.812',\n",
    "    'E05.796.908',\n",
    "    'F',\n",
    "    'H01.158.610',\n",
    "#     'H01.158.610.030',\n",
    "    'H01.158.782.795',\n",
    "#     'H01.158.782.795.110',\n",
    "    'H01.770.644.364',\n",
    "    'H02.403.007',\n",
    "    'H02.403.090',\n",
    "    'H02.403.690',\n",
    "#     'H02.403.690.080',\n",
    "#     'H02.403.690.100',\n",
    "#     'H02.403.690.130',\n",
    "#     'H02.403.690.150',\n",
    "#     'H02.403.690.150.580',\n",
    "#     'H02.403.690.208',\n",
    "#     'H02.403.690.260',\n",
    "#     'H02.403.690.508',\n",
    "#     'H02.403.690.754',\n",
    "    'H02.403.720.750.550',\n",
    "    'H02.478.676.542',\n",
    "    'H02.720',\n",
    "    'I01.198.780.937.469',\n",
    "    'I01.880.604.583.310',\n",
    "    'J01.293.556',\n",
    "    'K01.400.899',\n",
    "    'K01.517.584.500',\n",
    "    'K01.752',\n",
    "#     'K01.752.304',\n",
    "#     'K01.752.798',\n",
    "    'K01.844.664',\n",
    "    'N02.421.533.505',\n",
    "    'N03.706.535.351',\n",
    "]"
   ]
  },
  {
   "cell_type": "code",
   "execution_count": null,
   "metadata": {
    "collapsed": true
   },
   "outputs": [],
   "source": [
    "def any_starts_with_aux(s):\n",
    "    return any(map(lambda x: s.startswith(x), my_mesh_headings))\n",
    "\n",
    "def any_starts_with(ls):\n",
    "    return any(map(any_starts_with_aux, ls))"
   ]
  },
  {
   "cell_type": "code",
   "execution_count": null,
   "metadata": {},
   "outputs": [
    {
     "name": "stdout",
     "output_type": "stream",
     "text": [
      "medline17n0001.xml\n"
     ]
    }
   ],
   "source": [
    "%%time\n",
    "\n",
    "error_set = set()\n",
    "\n",
    "article_ids = []\n",
    "for filename in sorted(os.listdir('data/src/')):\n",
    "    print(filename)\n",
    "    filepath = 'data/src/' + filename\n",
    "    root = ET.parse(filepath).getroot()\n",
    "    for a in root.findall('PubmedArticle'):\n",
    "        mesh_names = [e.text for e in a.findall('MedlineCitation/MeshHeadingList/MeshHeading/DescriptorName')]\n",
    "        for mesh_name in mesh_names:\n",
    "            if mesh_name in mesh_tree_sr:\n",
    "                mesh_heading = mesh_tree_sr[mesh_name]\n",
    "                if isinstance(mesh_heading, str):\n",
    "                    mesh_headings = [mesh_heading]\n",
    "                elif isinstance(mesh_heading, pd.Series):\n",
    "                    mesh_headings = list(mesh_heading)\n",
    "                else:\n",
    "                    mesh_headings = []\n",
    "                    error_set.add((1, filename, mesh_name))\n",
    "                if any_starts_with(mesh_headings):\n",
    "                    pmid = a.find('MedlineCitation/PMID').text\n",
    "                    article_ids.append(pmid)\n",
    "            else:\n",
    "                error_set.add((2, filename, mesh_name))\n",
    "        a.clear()\n",
    "    root.clear()"
   ]
  },
  {
   "cell_type": "code",
   "execution_count": null,
   "metadata": {},
   "outputs": [],
   "source": [
    "len(error_set)"
   ]
  },
  {
   "cell_type": "code",
   "execution_count": null,
   "metadata": {},
   "outputs": [],
   "source": [
    "len(article_ids)"
   ]
  },
  {
   "cell_type": "code",
   "execution_count": null,
   "metadata": {
    "collapsed": true
   },
   "outputs": [],
   "source": [
    "with open('data/article_ids_full_2.pickle', 'wb') as f:\n",
    "    pickle.dump(article_ids, f)"
   ]
  },
  {
   "cell_type": "code",
   "execution_count": null,
   "metadata": {
    "collapsed": true
   },
   "outputs": [],
   "source": []
  }
 ],
 "metadata": {
  "kernelspec": {
   "display_name": "Python 3",
   "language": "python",
   "name": "python3"
  },
  "language_info": {
   "codemirror_mode": {
    "name": "ipython",
    "version": 3
   },
   "file_extension": ".py",
   "mimetype": "text/x-python",
   "name": "python",
   "nbconvert_exporter": "python",
   "pygments_lexer": "ipython3",
   "version": "3.5.2"
  }
 },
 "nbformat": 4,
 "nbformat_minor": 2
}
