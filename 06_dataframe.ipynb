{
 "cells": [
  {
   "cell_type": "code",
   "execution_count": 1,
   "metadata": {
    "collapsed": true
   },
   "outputs": [],
   "source": [
    "import pickle\n",
    "\n",
    "import pandas as pd"
   ]
  },
  {
   "cell_type": "code",
   "execution_count": 2,
   "metadata": {
    "collapsed": true
   },
   "outputs": [],
   "source": [
    "with open('data/articles_full.pickle', 'rb') as f:\n",
    "    articles = pickle.load(f)"
   ]
  },
  {
   "cell_type": "code",
   "execution_count": 3,
   "metadata": {},
   "outputs": [
    {
     "data": {
      "text/plain": [
       "72384"
      ]
     },
     "execution_count": 3,
     "metadata": {},
     "output_type": "execute_result"
    }
   ],
   "source": [
    "len(articles)"
   ]
  },
  {
   "cell_type": "code",
   "execution_count": 4,
   "metadata": {
    "collapsed": true
   },
   "outputs": [],
   "source": [
    "col_names = [\n",
    "    'ID',\n",
    "    'TITLE',\n",
    "    'AUTHORS',\n",
    "    'ABSTRACT',\n",
    "    'DATE',\n",
    "    'KEYWORDS',\n",
    "    'LANGUAGE',\n",
    "    'MESH',\n",
    "    'PUB_TYPE',\n",
    "    'JOURNAL',\n",
    "    'VOLUME',\n",
    "    'ISSUE',\n",
    "]"
   ]
  },
  {
   "cell_type": "code",
   "execution_count": 5,
   "metadata": {},
   "outputs": [
    {
     "name": "stdout",
     "output_type": "stream",
     "text": [
      "CPU times: user 1min 51s, sys: 884 ms, total: 1min 51s\n",
      "Wall time: 1min 48s\n"
     ]
    }
   ],
   "source": [
    "%%time\n",
    "\n",
    "ls = []\n",
    "for a in articles:\n",
    "    id_ = a['id_']\n",
    "    title = a['title']\n",
    "    authors = []\n",
    "    if a['authors']:\n",
    "        for x in a['authors']:\n",
    "            aux = (x.get('first_name', '') + ' ' + x.get('last_name', '')).strip()\n",
    "            name = aux or x['collective_name']\n",
    "#             t = 'ind' if aux else 'col'\n",
    "#             aff = x.get('affiliation', '')\n",
    "#             auth = (name, t, aff)\n",
    "            auth = name\n",
    "            authors.append(auth)\n",
    "    abstract = a['abstract']\n",
    "    dat = a['pub_date'] or a['pubmed_date']\n",
    "    keywords = a['keywords'] or []\n",
    "    language = a['language']\n",
    "    mesh = a['mesh_headings']\n",
    "    typ = a['pub_type']\n",
    "    journal = a['journal_info'].get('title')\n",
    "    volume = a['journal_info'].get('volume')\n",
    "    issue = a['journal_info'].get('issue')\n",
    "    df = pd.DataFrame(\n",
    "        data=[[id_, title, authors, abstract, dat, keywords, language, mesh, typ, journal, volume, issue]],\n",
    "        columns=col_names,\n",
    "    )\n",
    "    ls.append(df)\n",
    "articles_df = pd.concat(ls, ignore_index=True)"
   ]
  },
  {
   "cell_type": "code",
   "execution_count": 6,
   "metadata": {},
   "outputs": [
    {
     "data": {
      "text/plain": [
       "(72384, 12)"
      ]
     },
     "execution_count": 6,
     "metadata": {},
     "output_type": "execute_result"
    }
   ],
   "source": [
    "articles_df.shape"
   ]
  },
  {
   "cell_type": "code",
   "execution_count": 7,
   "metadata": {},
   "outputs": [
    {
     "data": {
      "text/html": [
       "<div>\n",
       "<style>\n",
       "    .dataframe thead tr:only-child th {\n",
       "        text-align: right;\n",
       "    }\n",
       "\n",
       "    .dataframe thead th {\n",
       "        text-align: left;\n",
       "    }\n",
       "\n",
       "    .dataframe tbody tr th {\n",
       "        vertical-align: top;\n",
       "    }\n",
       "</style>\n",
       "<table border=\"1\" class=\"dataframe\">\n",
       "  <thead>\n",
       "    <tr style=\"text-align: right;\">\n",
       "      <th></th>\n",
       "      <th>ID</th>\n",
       "      <th>TITLE</th>\n",
       "      <th>AUTHORS</th>\n",
       "      <th>ABSTRACT</th>\n",
       "      <th>DATE</th>\n",
       "      <th>KEYWORDS</th>\n",
       "      <th>LANGUAGE</th>\n",
       "      <th>MESH</th>\n",
       "      <th>PUB_TYPE</th>\n",
       "      <th>JOURNAL</th>\n",
       "      <th>VOLUME</th>\n",
       "      <th>ISSUE</th>\n",
       "    </tr>\n",
       "  </thead>\n",
       "  <tbody>\n",
       "    <tr>\n",
       "      <th>0</th>\n",
       "      <td>713</td>\n",
       "      <td>Plasma/blood level monitoring techniques in ps...</td>\n",
       "      <td>[T B Cooper, G M Simpson]</td>\n",
       "      <td>None</td>\n",
       "      <td>1975-10-01</td>\n",
       "      <td>[]</td>\n",
       "      <td>eng</td>\n",
       "      <td>[Enzyme Induction, Humans, Lithium, Methods, P...</td>\n",
       "      <td>[Journal Article]</td>\n",
       "      <td>Psychopharmacology bulletin</td>\n",
       "      <td>11</td>\n",
       "      <td>4</td>\n",
       "    </tr>\n",
       "    <tr>\n",
       "      <th>1</th>\n",
       "      <td>1316</td>\n",
       "      <td>Psychiatric myths and their victims.</td>\n",
       "      <td>[S Page]</td>\n",
       "      <td>None</td>\n",
       "      <td>1976-01-01</td>\n",
       "      <td>[]</td>\n",
       "      <td>eng</td>\n",
       "      <td>[Allied Health Personnel, Hospitals, Psychiatr...</td>\n",
       "      <td>[Journal Article]</td>\n",
       "      <td>Dimensions in health service</td>\n",
       "      <td>53</td>\n",
       "      <td>1</td>\n",
       "    </tr>\n",
       "    <tr>\n",
       "      <th>2</th>\n",
       "      <td>4393</td>\n",
       "      <td>Psychiatric consultations with gynecologic pat...</td>\n",
       "      <td>[J J Schwab]</td>\n",
       "      <td>None</td>\n",
       "      <td>1975-01-01</td>\n",
       "      <td>[]</td>\n",
       "      <td>eng</td>\n",
       "      <td>[Counseling, Female, Genital Diseases, Female,...</td>\n",
       "      <td>[Journal Article]</td>\n",
       "      <td>International journal of fertility</td>\n",
       "      <td>20</td>\n",
       "      <td>3</td>\n",
       "    </tr>\n",
       "    <tr>\n",
       "      <th>3</th>\n",
       "      <td>4485</td>\n",
       "      <td>The heterogeneity of asthmatic patients--an in...</td>\n",
       "      <td>[S L Spector, R S Farr]</td>\n",
       "      <td>None</td>\n",
       "      <td>1976-05-01</td>\n",
       "      <td>[]</td>\n",
       "      <td>eng</td>\n",
       "      <td>[Adrenal Cortex Hormones, Adrenergic beta-Anta...</td>\n",
       "      <td>[Case Reports, Journal Article, Research Suppo...</td>\n",
       "      <td>The Journal of allergy and clinical immunology</td>\n",
       "      <td>57</td>\n",
       "      <td>5</td>\n",
       "    </tr>\n",
       "    <tr>\n",
       "      <th>4</th>\n",
       "      <td>6339</td>\n",
       "      <td>Ovulatory failure: clinical aspects.</td>\n",
       "      <td>[A E Rakoff]</td>\n",
       "      <td>None</td>\n",
       "      <td>1976-05-01</td>\n",
       "      <td>[]</td>\n",
       "      <td>eng</td>\n",
       "      <td>[17-Ketosteroids, Animals, Anovulation, Chorio...</td>\n",
       "      <td>[Journal Article, Review]</td>\n",
       "      <td>Fertility and sterility</td>\n",
       "      <td>27</td>\n",
       "      <td>5</td>\n",
       "    </tr>\n",
       "  </tbody>\n",
       "</table>\n",
       "</div>"
      ],
      "text/plain": [
       "     ID                                              TITLE  \\\n",
       "0   713  Plasma/blood level monitoring techniques in ps...   \n",
       "1  1316               Psychiatric myths and their victims.   \n",
       "2  4393  Psychiatric consultations with gynecologic pat...   \n",
       "3  4485  The heterogeneity of asthmatic patients--an in...   \n",
       "4  6339               Ovulatory failure: clinical aspects.   \n",
       "\n",
       "                     AUTHORS ABSTRACT        DATE KEYWORDS LANGUAGE  \\\n",
       "0  [T B Cooper, G M Simpson]     None  1975-10-01       []      eng   \n",
       "1                   [S Page]     None  1976-01-01       []      eng   \n",
       "2               [J J Schwab]     None  1975-01-01       []      eng   \n",
       "3    [S L Spector, R S Farr]     None  1976-05-01       []      eng   \n",
       "4               [A E Rakoff]     None  1976-05-01       []      eng   \n",
       "\n",
       "                                                MESH  \\\n",
       "0  [Enzyme Induction, Humans, Lithium, Methods, P...   \n",
       "1  [Allied Health Personnel, Hospitals, Psychiatr...   \n",
       "2  [Counseling, Female, Genital Diseases, Female,...   \n",
       "3  [Adrenal Cortex Hormones, Adrenergic beta-Anta...   \n",
       "4  [17-Ketosteroids, Animals, Anovulation, Chorio...   \n",
       "\n",
       "                                            PUB_TYPE  \\\n",
       "0                                  [Journal Article]   \n",
       "1                                  [Journal Article]   \n",
       "2                                  [Journal Article]   \n",
       "3  [Case Reports, Journal Article, Research Suppo...   \n",
       "4                          [Journal Article, Review]   \n",
       "\n",
       "                                          JOURNAL VOLUME ISSUE  \n",
       "0                     Psychopharmacology bulletin     11     4  \n",
       "1                    Dimensions in health service     53     1  \n",
       "2              International journal of fertility     20     3  \n",
       "3  The Journal of allergy and clinical immunology     57     5  \n",
       "4                         Fertility and sterility     27     5  "
      ]
     },
     "execution_count": 7,
     "metadata": {},
     "output_type": "execute_result"
    }
   ],
   "source": [
    "articles_df.head()"
   ]
  },
  {
   "cell_type": "code",
   "execution_count": 8,
   "metadata": {
    "collapsed": true
   },
   "outputs": [],
   "source": [
    "articles_df.to_csv('data/articles_df.csv', index=False)"
   ]
  },
  {
   "cell_type": "code",
   "execution_count": null,
   "metadata": {
    "collapsed": true
   },
   "outputs": [],
   "source": []
  }
 ],
 "metadata": {
  "kernelspec": {
   "display_name": "Python 3",
   "language": "python",
   "name": "python3"
  },
  "language_info": {
   "codemirror_mode": {
    "name": "ipython",
    "version": 3
   },
   "file_extension": ".py",
   "mimetype": "text/x-python",
   "name": "python",
   "nbconvert_exporter": "python",
   "pygments_lexer": "ipython3",
   "version": "3.5.2"
  }
 },
 "nbformat": 4,
 "nbformat_minor": 2
}
